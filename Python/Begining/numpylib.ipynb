{
 "cells": [
  {
   "cell_type": "markdown",
   "id": "18273cdf",
   "metadata": {},
   "source": [
    "# **Numpy** "
   ]
  },
  {
   "cell_type": "code",
   "execution_count": 2,
   "id": "bf4f2d92",
   "metadata": {},
   "outputs": [],
   "source": [
    "import numpy as np"
   ]
  },
  {
   "cell_type": "code",
   "execution_count": 41,
   "id": "df78ced5",
   "metadata": {},
   "outputs": [
    {
     "name": "stdout",
     "output_type": "stream",
     "text": [
      "itemsize: 4\n",
      "size: 4\n",
      "dtype: int32\n"
     ]
    }
   ],
   "source": [
    "a1=np.array([1,52,4,3])\n",
    "print(\"itemsize:\",a1.itemsize)  #size of int\n",
    "print(\"size:\",a1.size)          # numbers of element in array\n",
    "print(\"dtype:\",a1.dtype)"
   ]
  },
  {
   "cell_type": "code",
   "execution_count": 50,
   "id": "ff23fb02",
   "metadata": {},
   "outputs": [
    {
     "name": "stdout",
     "output_type": "stream",
     "text": [
      "zeroes:\n",
      " [[0 0]\n",
      " [0 0]\n",
      " [0 0]]\n",
      "ones:\n",
      " [[1 1]\n",
      " [1 1]\n",
      " [1 1]]\n"
     ]
    }
   ],
   "source": [
    "zero_array=np.zeros((3,2),dtype=\"int32\")\n",
    "print(\"zeroes:\\n\",zero_array)\n",
    "ones_array=np.ones((3,2),dtype=\"int32\")\n",
    "print(\"ones:\\n\",ones_array)"
   ]
  },
  {
   "cell_type": "code",
   "execution_count": 56,
   "id": "6ea24a26",
   "metadata": {
    "scrolled": true
   },
   "outputs": [
    {
     "name": "stdout",
     "output_type": "stream",
     "text": [
      "[ 1  2  3  4  5  6  7  8  9 10]\n",
      "[1 3 5 7 9]\n",
      "[ 0  5 10 15 20]\n"
     ]
    }
   ],
   "source": [
    "one2ten=np.arange(1,11) # it does not include 11\n",
    "one2tenwithsteps=np.arange(1,11,2)\n",
    "linerspace=np.linspace(0,20,5,dtype=\"int32\")\n",
    "\n",
    "print(one2ten)\n",
    "print(one2tenwithsteps)\n",
    "print(linerspace)"
   ]
  },
  {
   "cell_type": "code",
   "execution_count": 60,
   "id": "c9caf1dd",
   "metadata": {
    "scrolled": false
   },
   "outputs": [
    {
     "name": "stdout",
     "output_type": "stream",
     "text": [
      "Reshaped:\n",
      " [[ 1  5 64]\n",
      " [ 4  1  5]]\n",
      "Falt/Ravel:\n",
      " [ 1  5 64  4  1  5]\n"
     ]
    }
   ],
   "source": [
    "arr1=np.array([[1,5],[64,4],[1,5]])\n",
    "print(\"Reshaped:\\n\",arr1.reshape(2,3))\n",
    "print(\"Falt/Ravel:\\n\",np.ravel(arr1))  # Ravel change dimension into 1"
   ]
  }
 ],
 "metadata": {
  "kernelspec": {
   "display_name": "Python 3 (ipykernel)",
   "language": "python",
   "name": "python3"
  },
  "language_info": {
   "codemirror_mode": {
    "name": "ipython",
    "version": 3
   },
   "file_extension": ".py",
   "mimetype": "text/x-python",
   "name": "python",
   "nbconvert_exporter": "python",
   "pygments_lexer": "ipython3",
   "version": "3.10.7"
  }
 },
 "nbformat": 4,
 "nbformat_minor": 5
}
