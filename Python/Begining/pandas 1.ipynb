{
 "cells": [
  {
   "cell_type": "markdown",
   "id": "093a7fb9",
   "metadata": {},
   "source": [
    "# ***Pandas***"
   ]
  },
  {
   "cell_type": "code",
   "execution_count": null,
   "id": "0b8d023b",
   "metadata": {},
   "outputs": [],
   "source": [
    "import pandas as pd"
   ]
  },
  {
   "cell_type": "code",
   "execution_count": null,
   "id": "b02f1a4f",
   "metadata": {},
   "outputs": [],
   "source": [
    "df= pd.read_csv(\"nyc_weather.csv\")"
   ]
  },
  {
   "cell_type": "markdown",
   "id": "4a91cd09",
   "metadata": {},
   "source": [
    "### Accessing"
   ]
  },
  {
   "cell_type": "code",
   "execution_count": null,
   "id": "259198cb",
   "metadata": {},
   "outputs": [],
   "source": [
    "df.head(2)    #first 2"
   ]
  },
  {
   "cell_type": "code",
   "execution_count": null,
   "id": "daa0837b",
   "metadata": {},
   "outputs": [],
   "source": [
    "df.tail(2)    #last 2"
   ]
  },
  {
   "cell_type": "code",
   "execution_count": null,
   "id": "7616453b",
   "metadata": {},
   "outputs": [],
   "source": [
    "df[5:7]     #Slicing"
   ]
  },
  {
   "cell_type": "code",
   "execution_count": null,
   "id": "d8823499",
   "metadata": {},
   "outputs": [],
   "source": [
    "df[5:7].Temperature"
   ]
  },
  {
   "cell_type": "code",
   "execution_count": null,
   "id": "675f6f3c",
   "metadata": {},
   "outputs": [],
   "source": [
    "df[5:7]['Temperature']"
   ]
  },
  {
   "cell_type": "code",
   "execution_count": null,
   "id": "7c413d5c",
   "metadata": {
    "scrolled": false
   },
   "outputs": [],
   "source": [
    "df.columns    #columns name"
   ]
  },
  {
   "cell_type": "code",
   "execution_count": null,
   "id": "8516120b",
   "metadata": {},
   "outputs": [],
   "source": [
    "type(df.Temperature)    #Series"
   ]
  },
  {
   "cell_type": "markdown",
   "id": "12fbba8b",
   "metadata": {},
   "source": [
    "### Statictics"
   ]
  },
  {
   "cell_type": "code",
   "execution_count": null,
   "id": "799409d1",
   "metadata": {},
   "outputs": [],
   "source": [
    "print(df.Temperature.max())\n",
    "print(df.Temperature.min())"
   ]
  },
  {
   "cell_type": "code",
   "execution_count": null,
   "id": "ae2c721e",
   "metadata": {},
   "outputs": [],
   "source": [
    "df.Temperature.mean()"
   ]
  },
  {
   "cell_type": "code",
   "execution_count": null,
   "id": "0eff7d98",
   "metadata": {
    "scrolled": false
   },
   "outputs": [],
   "source": [
    "df.describe()"
   ]
  }
 ],
 "metadata": {
  "kernelspec": {
   "display_name": "Python 3 (ipykernel)",
   "language": "python",
   "name": "python3"
  },
  "language_info": {
   "codemirror_mode": {
    "name": "ipython",
    "version": 3
   },
   "file_extension": ".py",
   "mimetype": "text/x-python",
   "name": "python",
   "nbconvert_exporter": "python",
   "pygments_lexer": "ipython3",
   "version": "3.10.7"
  }
 },
 "nbformat": 4,
 "nbformat_minor": 5
}
