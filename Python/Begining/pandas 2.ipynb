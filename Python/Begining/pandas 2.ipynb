{
 "cells": [
  {
   "cell_type": "code",
   "execution_count": 18,
   "id": "c93a8bfb",
   "metadata": {},
   "outputs": [],
   "source": [
    "import pandas as pd"
   ]
  },
  {
   "cell_type": "code",
   "execution_count": null,
   "id": "858f5275",
   "metadata": {},
   "outputs": [],
   "source": [
    "# Creating DataFrame from Dictionary\n",
    "students={\n",
    "    'Name': [\"Priyanshu\",\"Amit\",\"Rahul\",\"Sahil\"],\n",
    "    'Course': [\"BCA\",\"BTech\",\"MCA\",\"BCA\"],\n",
    "    'Age': [18,20,22,19],\n",
    "    'Marks': [9,'-',8,6]\n",
    "}\n",
    "dfdict= pd.DataFrame(students)   #,index = ['a', 'b', 'c', 'd']\n",
    "dfdict.index+=1   # index starts from 0\n",
    "dfsict"
   ]
  },
  {
   "cell_type": "code",
   "execution_count": null,
   "id": "c8d3d133",
   "metadata": {},
   "outputs": [],
   "source": [
    "# creating from Tuple List\n",
    "tuplis=[\n",
    "    (\"Priyanshu\",\"BCA\",18,9),\n",
    "    (\"Amit\",\"BTech\",20,'-'),\n",
    "    (\"Rahul\",\"MCA\",22,8),\n",
    "    (\"Sahil\",\"BCA\",19,6)\n",
    "       ]\n",
    "dftuplis= pd.DataFrame(tuplis,columns=[\"Name\",\"Course\",\"Age\",\"Marks\"])\n",
    "dftuplis.index+=1\n",
    "dftuplis"
   ]
  },
  {
   "cell_type": "code",
   "execution_count": null,
   "id": "80aab4d6",
   "metadata": {},
   "outputs": [],
   "source": [
    "# Creating from Dictionary List\n",
    "diclis=[\n",
    "    {\"Name\":\"Priyanshu\",\"Course\":\"BCA\",\"Age\":18,\"Marks\":9},\n",
    "    {\"Name\":\"Amit\",\"Course\":\"BTech\",\"Age\":20,\"Marks\":'-'},\n",
    "    {\"Name\":\"Rahul\",\"Course\":\"MCA\",\"Age\":22,\"Marks\":8},\n",
    "    {\"Name\":\"Sahil\",\"Course\":\"BCA\",\"Age\":19,\"Marks\":6}\n",
    "]\n",
    "dfdiclis= pd.DataFrame(diclis)\n",
    "dfdiclis.index+=1\n",
    "dfdiclis"
   ]
  }
 ],
 "metadata": {
  "kernelspec": {
   "display_name": "Python 3 (ipykernel)",
   "language": "python",
   "name": "python3"
  },
  "language_info": {
   "codemirror_mode": {
    "name": "ipython",
    "version": 3
   },
   "file_extension": ".py",
   "mimetype": "text/x-python",
   "name": "python",
   "nbconvert_exporter": "python",
   "pygments_lexer": "ipython3",
   "version": "3.10.7"
  }
 },
 "nbformat": 4,
 "nbformat_minor": 5
}
