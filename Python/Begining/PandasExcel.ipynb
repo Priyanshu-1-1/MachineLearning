{
 "cells": [
  {
   "cell_type": "code",
   "execution_count": 2,
   "id": "cc2a0b62",
   "metadata": {},
   "outputs": [],
   "source": [
    "import pandas as pd"
   ]
  },
  {
   "cell_type": "markdown",
   "id": "1356f74b",
   "metadata": {},
   "source": [
    "# Reading xlsx"
   ]
  },
  {
   "cell_type": "markdown",
   "id": "7ef76eee",
   "metadata": {},
   "source": [
    "### 1.Defining Converters"
   ]
  },
  {
   "cell_type": "code",
   "execution_count": 3,
   "id": "6e1f9d8d",
   "metadata": {},
   "outputs": [],
   "source": [
    "def ageConverter(cell):\n",
    "    if cell==0:\n",
    "        cell=\"NaN\"\n",
    "    return cell\n",
    "\n",
    "def marksConverter(cell):\n",
    "    if cell=='-':\n",
    "        cell=\"NaN\"\n",
    "    return cell"
   ]
  },
  {
   "cell_type": "code",
   "execution_count": 4,
   "id": "2a06a1ea",
   "metadata": {},
   "outputs": [
    {
     "data": {
      "text/html": [
       "<div>\n",
       "<style scoped>\n",
       "    .dataframe tbody tr th:only-of-type {\n",
       "        vertical-align: middle;\n",
       "    }\n",
       "\n",
       "    .dataframe tbody tr th {\n",
       "        vertical-align: top;\n",
       "    }\n",
       "\n",
       "    .dataframe thead th {\n",
       "        text-align: right;\n",
       "    }\n",
       "</style>\n",
       "<table border=\"1\" class=\"dataframe\">\n",
       "  <thead>\n",
       "    <tr style=\"text-align: right;\">\n",
       "      <th></th>\n",
       "      <th>Name</th>\n",
       "      <th>Course</th>\n",
       "      <th>Age</th>\n",
       "      <th>Marks</th>\n",
       "    </tr>\n",
       "  </thead>\n",
       "  <tbody>\n",
       "    <tr>\n",
       "      <th>1</th>\n",
       "      <td>Priyanshu</td>\n",
       "      <td>BCA</td>\n",
       "      <td>18</td>\n",
       "      <td>9</td>\n",
       "    </tr>\n",
       "    <tr>\n",
       "      <th>2</th>\n",
       "      <td>Amit</td>\n",
       "      <td>BTech</td>\n",
       "      <td>NaN</td>\n",
       "      <td>NaN</td>\n",
       "    </tr>\n",
       "    <tr>\n",
       "      <th>3</th>\n",
       "      <td>Rahul</td>\n",
       "      <td>MCA</td>\n",
       "      <td>22</td>\n",
       "      <td>8</td>\n",
       "    </tr>\n",
       "    <tr>\n",
       "      <th>4</th>\n",
       "      <td>Sahil</td>\n",
       "      <td>BCA</td>\n",
       "      <td>19</td>\n",
       "      <td>6</td>\n",
       "    </tr>\n",
       "  </tbody>\n",
       "</table>\n",
       "</div>"
      ],
      "text/plain": [
       "        Name Course  Age Marks\n",
       "1  Priyanshu    BCA   18     9\n",
       "2       Amit  BTech  NaN   NaN\n",
       "3      Rahul    MCA   22     8\n",
       "4      Sahil    BCA   19     6"
      ]
     },
     "execution_count": 4,
     "metadata": {},
     "output_type": "execute_result"
    }
   ],
   "source": [
    "df= pd.read_excel(\"student.xlsx\",converters={'Age':ageConverter,'Marks':marksConverter},header=0)\n",
    "df.index+=1\n",
    "df"
   ]
  },
  {
   "cell_type": "markdown",
   "id": "abfe3aac",
   "metadata": {},
   "source": [
    "# Writing DataFrame into Excel"
   ]
  },
  {
   "cell_type": "code",
   "execution_count": 5,
   "id": "e77e4057",
   "metadata": {},
   "outputs": [],
   "source": [
    "df.to_excel(\"studentBypython.xlsx\",sheet_name=\"StudentData\",index=False,header=True,startrow=4,startcol=4)"
   ]
  }
 ],
 "metadata": {
  "kernelspec": {
   "display_name": "Python 3 (ipykernel)",
   "language": "python",
   "name": "python3"
  },
  "language_info": {
   "codemirror_mode": {
    "name": "ipython",
    "version": 3
   },
   "file_extension": ".py",
   "mimetype": "text/x-python",
   "name": "python",
   "nbconvert_exporter": "python",
   "pygments_lexer": "ipython3",
   "version": "3.10.7"
  }
 },
 "nbformat": 4,
 "nbformat_minor": 5
}
