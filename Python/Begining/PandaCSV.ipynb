{
 "cells": [
  {
   "cell_type": "code",
   "execution_count": 2,
   "id": "46ab7398",
   "metadata": {},
   "outputs": [],
   "source": [
    "import pandas as pd"
   ]
  },
  {
   "cell_type": "markdown",
   "id": "7976bf6e",
   "metadata": {},
   "source": [
    "## Reading csv "
   ]
  },
  {
   "cell_type": "code",
   "execution_count": 35,
   "id": "bbb100cf",
   "metadata": {},
   "outputs": [
    {
     "data": {
      "text/html": [
       "<div>\n",
       "<style scoped>\n",
       "    .dataframe tbody tr th:only-of-type {\n",
       "        vertical-align: middle;\n",
       "    }\n",
       "\n",
       "    .dataframe tbody tr th {\n",
       "        vertical-align: top;\n",
       "    }\n",
       "\n",
       "    .dataframe thead th {\n",
       "        text-align: right;\n",
       "    }\n",
       "</style>\n",
       "<table border=\"1\" class=\"dataframe\">\n",
       "  <thead>\n",
       "    <tr style=\"text-align: right;\">\n",
       "      <th></th>\n",
       "      <th>Name</th>\n",
       "      <th>Course</th>\n",
       "      <th>Age</th>\n",
       "      <th>Marks</th>\n",
       "    </tr>\n",
       "  </thead>\n",
       "  <tbody>\n",
       "    <tr>\n",
       "      <th>1</th>\n",
       "      <td>Priyanshu</td>\n",
       "      <td>BCA</td>\n",
       "      <td>18</td>\n",
       "      <td>9.0</td>\n",
       "    </tr>\n",
       "    <tr>\n",
       "      <th>2</th>\n",
       "      <td>Amit</td>\n",
       "      <td>BTech</td>\n",
       "      <td>20</td>\n",
       "      <td>NaN</td>\n",
       "    </tr>\n",
       "    <tr>\n",
       "      <th>3</th>\n",
       "      <td>Rahul</td>\n",
       "      <td>MCA</td>\n",
       "      <td>22</td>\n",
       "      <td>8.0</td>\n",
       "    </tr>\n",
       "    <tr>\n",
       "      <th>4</th>\n",
       "      <td>Sahil</td>\n",
       "      <td>BCA</td>\n",
       "      <td>19</td>\n",
       "      <td>6.0</td>\n",
       "    </tr>\n",
       "  </tbody>\n",
       "</table>\n",
       "</div>"
      ],
      "text/plain": [
       "        Name Course  Age  Marks\n",
       "1  Priyanshu    BCA   18    9.0\n",
       "2       Amit  BTech   20    NaN\n",
       "3      Rahul    MCA   22    8.0\n",
       "4      Sahil    BCA   19    6.0"
      ]
     },
     "execution_count": 35,
     "metadata": {},
     "output_type": "execute_result"
    }
   ],
   "source": [
    "df= pd.read_csv('student.csv',na_values=['-'],header=0)   #header=0 means the header is in 0th row\n",
    "df.index+=1\n",
    "df"
   ]
  },
  {
   "cell_type": "markdown",
   "id": "d91296bc",
   "metadata": {},
   "source": [
    "## Writing DataFrame into CSV"
   ]
  },
  {
   "cell_type": "code",
   "execution_count": 30,
   "id": "a2f8c230",
   "metadata": {},
   "outputs": [],
   "source": [
    "df.to_csv(\"studentBypython.csv\"s,index=False,columns=['Name','Course'],header=True)"
   ]
  }
 ],
 "metadata": {
  "kernelspec": {
   "display_name": "Python 3 (ipykernel)",
   "language": "python",
   "name": "python3"
  },
  "language_info": {
   "codemirror_mode": {
    "name": "ipython",
    "version": 3
   },
   "file_extension": ".py",
   "mimetype": "text/x-python",
   "name": "python",
   "nbconvert_exporter": "python",
   "pygments_lexer": "ipython3",
   "version": "3.10.7"
  }
 },
 "nbformat": 4,
 "nbformat_minor": 5
}
