{
 "cells": [
  {
   "cell_type": "code",
   "execution_count": null,
   "id": "d7e33b74",
   "metadata": {},
   "outputs": [],
   "source": [
    "import pandas as pd"
   ]
  },
  {
   "cell_type": "markdown",
   "id": "c4c1e022",
   "metadata": {},
   "source": [
    "### NaN Values"
   ]
  },
  {
   "cell_type": "code",
   "execution_count": null,
   "id": "e048936d",
   "metadata": {
    "scrolled": false
   },
   "outputs": [],
   "source": [
    "df= pd.read_csv(\"nyc_weather.csv\",parse_dates=['EST'])\n",
    "df.set_index('EST',inplace=True)\n",
    "df=df.head(10)\n",
    "df"
   ]
  },
  {
   "cell_type": "markdown",
   "id": "b398c624",
   "metadata": {},
   "source": [
    "### FillNa "
   ]
  },
  {
   "cell_type": "code",
   "execution_count": null,
   "id": "03c12077",
   "metadata": {
    "scrolled": false
   },
   "outputs": [],
   "source": [
    "df.fillna(0)  #This will fill 0 in place of NaN"
   ]
  },
  {
   "cell_type": "code",
   "execution_count": null,
   "id": "43064b24",
   "metadata": {},
   "outputs": [],
   "source": [
    "df.fillna({\n",
    "    'Events':'No Event',\n",
    "    'Temperature':0    \n",
    "})"
   ]
  },
  {
   "cell_type": "markdown",
   "id": "0a3115e2",
   "metadata": {},
   "source": [
    "### Interpolate"
   ]
  },
  {
   "cell_type": "code",
   "execution_count": null,
   "id": "5742f26f",
   "metadata": {},
   "outputs": [],
   "source": [
    "df1= df.interpolate(method=\"time\") # this function assign values using methods like linear,time and many more (default is Linear)\n",
    "df1"
   ]
  },
  {
   "cell_type": "markdown",
   "id": "7f219f77",
   "metadata": {},
   "source": [
    "### FillNa on specific columns And updating Dataframe"
   ]
  },
  {
   "cell_type": "code",
   "execution_count": null,
   "id": "8d817365",
   "metadata": {},
   "outputs": [],
   "source": [
    "\n",
    "df.Temperature=df.Temperature.fillna(method=\"ffill\")  # Applying fillna on only a specific column\n",
    "df.Events=df.Events.fillna('No Event')     \n",
    "df  #Updated dataframe"
   ]
  },
  {
   "cell_type": "markdown",
   "id": "e8cd9b96",
   "metadata": {},
   "source": [
    "### Adding Missing dates\n"
   ]
  },
  {
   "cell_type": "code",
   "execution_count": null,
   "id": "480fa080",
   "metadata": {},
   "outputs": [],
   "source": [
    "#Date has to be indexed and parsed into dates type\n",
    "dt= pd.date_range(\"01-10-2016\",\"01-25-2016\")\n",
    "idx= pd.DatetimeIndex(dt)\n",
    "df = df.reindex(idx)\n",
    "df"
   ]
  },
  {
   "cell_type": "markdown",
   "id": "127fea44",
   "metadata": {},
   "source": [
    "### DropNa"
   ]
  },
  {
   "cell_type": "code",
   "execution_count": null,
   "id": "99a4f6a4",
   "metadata": {},
   "outputs": [],
   "source": [
    "df.dropna()"
   ]
  },
  {
   "cell_type": "code",
   "execution_count": null,
   "id": "a5500585",
   "metadata": {},
   "outputs": [],
   "source": [
    "df.dropna(how=\"all\")   # how ,thresh"
   ]
  }
 ],
 "metadata": {
  "kernelspec": {
   "display_name": "Python 3 (ipykernel)",
   "language": "python",
   "name": "python3"
  },
  "language_info": {
   "codemirror_mode": {
    "name": "ipython",
    "version": 3
   },
   "file_extension": ".py",
   "mimetype": "text/x-python",
   "name": "python",
   "nbconvert_exporter": "python",
   "pygments_lexer": "ipython3",
   "version": "3.10.7"
  }
 },
 "nbformat": 4,
 "nbformat_minor": 5
}
