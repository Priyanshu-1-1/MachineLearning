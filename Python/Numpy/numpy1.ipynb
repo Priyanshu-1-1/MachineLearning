{
 "cells": [
  {
   "cell_type": "code",
   "execution_count": 1,
   "id": "79cd2b65",
   "metadata": {},
   "outputs": [],
   "source": [
    "import numpy as np"
   ]
  },
  {
   "cell_type": "markdown",
   "id": "521031a6",
   "metadata": {},
   "source": [
    "## Creation"
   ]
  },
  {
   "cell_type": "markdown",
   "id": "b2e8375d",
   "metadata": {},
   "source": [
    "<strong> 1.np.array"
   ]
  },
  {
   "cell_type": "code",
   "execution_count": 10,
   "id": "4d04470f",
   "metadata": {},
   "outputs": [
    {
     "data": {
      "text/plain": [
       "array([ 1,  2,  3,  4,  5,  6,  7,  8,  9, 10])"
      ]
     },
     "execution_count": 10,
     "metadata": {},
     "output_type": "execute_result"
    }
   ],
   "source": [
    "arr1=np.array((range(1,11))) # Tuple into numpy array\n",
    "arr1"
   ]
  },
  {
   "cell_type": "code",
   "execution_count": 11,
   "id": "b860f53a",
   "metadata": {},
   "outputs": [
    {
     "data": {
      "text/plain": [
       "array([[ 1,  2,  3,  4,  5,  6,  7,  8,  9, 10]])"
      ]
     },
     "execution_count": 11,
     "metadata": {},
     "output_type": "execute_result"
    }
   ],
   "source": [
    "arr2=np.array([range(1,11)]) # list into numpy array \n",
    "arr2"
   ]
  },
  {
   "cell_type": "markdown",
   "id": "01642f36",
   "metadata": {},
   "source": [
    "<strong>2.np.zeroes"
   ]
  },
  {
   "cell_type": "code",
   "execution_count": 14,
   "id": "80ed3dcf",
   "metadata": {},
   "outputs": [
    {
     "data": {
      "text/plain": [
       "array([[0., 0., 0., 0., 0.],\n",
       "       [0., 0., 0., 0., 0.],\n",
       "       [0., 0., 0., 0., 0.],\n",
       "       [0., 0., 0., 0., 0.]])"
      ]
     },
     "execution_count": 14,
     "metadata": {},
     "output_type": "execute_result"
    }
   ],
   "source": [
    "zeroes_np= np.zeros((4,5)) \n",
    "zeroes_np"
   ]
  },
  {
   "cell_type": "markdown",
   "id": "f62f6f6a",
   "metadata": {},
   "source": [
    "<strong>3.np.ones"
   ]
  },
  {
   "cell_type": "code",
   "execution_count": 15,
   "id": "797bbef8",
   "metadata": {},
   "outputs": [
    {
     "data": {
      "text/plain": [
       "array([[1., 1., 1., 1., 1.],\n",
       "       [1., 1., 1., 1., 1.],\n",
       "       [1., 1., 1., 1., 1.],\n",
       "       [1., 1., 1., 1., 1.]])"
      ]
     },
     "execution_count": 15,
     "metadata": {},
     "output_type": "execute_result"
    }
   ],
   "source": [
    "ones_np=np.ones((4,5))\n",
    "ones_np"
   ]
  },
  {
   "cell_type": "markdown",
   "id": "2db4f696",
   "metadata": {},
   "source": [
    "<strong>4.Identity np"
   ]
  },
  {
   "cell_type": "code",
   "execution_count": 19,
   "id": "05a750d4",
   "metadata": {},
   "outputs": [
    {
     "data": {
      "text/plain": [
       "array([[1., 0., 0., 0., 0.],\n",
       "       [0., 1., 0., 0., 0.],\n",
       "       [0., 0., 1., 0., 0.],\n",
       "       [0., 0., 0., 1., 0.],\n",
       "       [0., 0., 0., 0., 1.]])"
      ]
     },
     "execution_count": 19,
     "metadata": {},
     "output_type": "execute_result"
    }
   ],
   "source": [
    "iden_np= np.identity(5) #identity is a square matrix having 1 in its diagonal values.\n",
    "iden_np"
   ]
  },
  {
   "cell_type": "markdown",
   "id": "4325e512",
   "metadata": {},
   "source": [
    "<strong>5. np.arange"
   ]
  },
  {
   "cell_type": "code",
   "execution_count": 22,
   "id": "a85dcf4d",
   "metadata": {},
   "outputs": [
    {
     "data": {
      "text/plain": [
       "array([1, 5, 9])"
      ]
     },
     "execution_count": 22,
     "metadata": {},
     "output_type": "execute_result"
    }
   ],
   "source": [
    "start=1\n",
    "end= 10\n",
    "step=4\n",
    "arr3= np.arange(start,end,step)\n",
    "arr3"
   ]
  },
  {
   "cell_type": "markdown",
   "id": "c9d5d19c",
   "metadata": {},
   "source": [
    "<strong>6.Linspace array"
   ]
  },
  {
   "cell_type": "code",
   "execution_count": 25,
   "id": "6aecee0e",
   "metadata": {},
   "outputs": [
    {
     "data": {
      "text/plain": [
       "array([ 1.,  4.,  7., 10.])"
      ]
     },
     "execution_count": 25,
     "metadata": {},
     "output_type": "execute_result"
    }
   ],
   "source": [
    "lin_np=np.linspace(start,end,4) # 4 numbers b/w start and end having equal space.\n",
    "lin_np"
   ]
  },
  {
   "cell_type": "markdown",
   "id": "454eae22",
   "metadata": {},
   "source": [
    "<strong>7.copy"
   ]
  },
  {
   "cell_type": "code",
   "execution_count": 28,
   "id": "c1a1052e",
   "metadata": {},
   "outputs": [
    {
     "data": {
      "text/plain": [
       "array([ 1.,  4.,  7., 10.])"
      ]
     },
     "execution_count": 28,
     "metadata": {},
     "output_type": "execute_result"
    }
   ],
   "source": [
    "c=lin_np\n",
    "c"
   ]
  },
  {
   "cell_type": "code",
   "execution_count": 27,
   "id": "86a7c2f2",
   "metadata": {},
   "outputs": [
    {
     "data": {
      "text/plain": [
       "array([ 1.,  4.,  7., 10.])"
      ]
     },
     "execution_count": 27,
     "metadata": {},
     "output_type": "execute_result"
    }
   ],
   "source": [
    "copy_np= np.copy(lin_np)\n",
    "copy_np"
   ]
  },
  {
   "cell_type": "markdown",
   "id": "f6b74653",
   "metadata": {},
   "source": [
    "<strong>8.np.random"
   ]
  },
  {
   "cell_type": "code",
   "execution_count": 30,
   "id": "01bad13d",
   "metadata": {},
   "outputs": [
    {
     "name": "stdout",
     "output_type": "stream",
     "text": [
      "Random float array: [34.51411028 47.50999422 41.0950701  41.50891915 11.08227999 18.04392153\n",
      " 38.5054819  14.53080873 42.56484837 22.51338216]\n",
      "Random int array: [20 32 18 28  4 41 48 40 47 19]\n"
     ]
    }
   ],
   "source": [
    "randfloat_np= np.random.uniform(1,50,10)\n",
    "randint_np= np.random.randint(1,50,10)\n",
    "print(\"Random float array:\",randfloat_np)\n",
    "print(\"Random int array:\",randint_np)"
   ]
  },
  {
   "cell_type": "markdown",
   "id": "51f1de9f",
   "metadata": {},
   "source": [
    "## Attributes"
   ]
  },
  {
   "cell_type": "markdown",
   "id": "819c0867",
   "metadata": {},
   "source": [
    "<strong>1.Shape"
   ]
  },
  {
   "cell_type": "code",
   "execution_count": 51,
   "id": "43e8b153",
   "metadata": {},
   "outputs": [
    {
     "data": {
      "text/plain": [
       "(2, 3)"
      ]
     },
     "execution_count": 51,
     "metadata": {},
     "output_type": "execute_result"
    }
   ],
   "source": [
    "arr3=np.array([[1,2,6],[1,3,4]])\n",
    "arr3.shape"
   ]
  },
  {
   "cell_type": "markdown",
   "id": "b26a66df",
   "metadata": {},
   "source": [
    "<strong>2.ndim"
   ]
  },
  {
   "cell_type": "code",
   "execution_count": 40,
   "id": "87e1228d",
   "metadata": {},
   "outputs": [
    {
     "data": {
      "text/plain": [
       "2"
      ]
     },
     "execution_count": 40,
     "metadata": {},
     "output_type": "execute_result"
    }
   ],
   "source": [
    "arr3.ndim"
   ]
  },
  {
   "cell_type": "markdown",
   "id": "062b7bbe",
   "metadata": {},
   "source": [
    "<strong>3.size"
   ]
  },
  {
   "cell_type": "code",
   "execution_count": 41,
   "id": "261271a9",
   "metadata": {},
   "outputs": [
    {
     "data": {
      "text/plain": [
       "6"
      ]
     },
     "execution_count": 41,
     "metadata": {},
     "output_type": "execute_result"
    }
   ],
   "source": [
    "arr3.size"
   ]
  },
  {
   "cell_type": "markdown",
   "id": "09b17bb4",
   "metadata": {},
   "source": [
    "<strong>4. itemsize"
   ]
  },
  {
   "cell_type": "code",
   "execution_count": 42,
   "id": "c33731c8",
   "metadata": {},
   "outputs": [
    {
     "data": {
      "text/plain": [
       "4"
      ]
     },
     "execution_count": 42,
     "metadata": {},
     "output_type": "execute_result"
    }
   ],
   "source": [
    "arr3.itemsize"
   ]
  },
  {
   "cell_type": "markdown",
   "id": "48492ba6",
   "metadata": {},
   "source": [
    "<strong>5.dtype"
   ]
  },
  {
   "cell_type": "code",
   "execution_count": 44,
   "id": "945e2ccc",
   "metadata": {},
   "outputs": [
    {
     "data": {
      "text/plain": [
       "dtype('int32')"
      ]
     },
     "execution_count": 44,
     "metadata": {},
     "output_type": "execute_result"
    }
   ],
   "source": [
    "arr3.dtype"
   ]
  },
  {
   "cell_type": "markdown",
   "id": "df5d35a5",
   "metadata": {},
   "source": [
    "<strong>6. astype"
   ]
  },
  {
   "cell_type": "code",
   "execution_count": 50,
   "id": "06196e99",
   "metadata": {},
   "outputs": [
    {
     "name": "stdout",
     "output_type": "stream",
     "text": [
      "float64\n"
     ]
    },
    {
     "data": {
      "text/plain": [
       "array([[1., 2., 6.],\n",
       "       [1., 3., 4.]])"
      ]
     },
     "execution_count": 50,
     "metadata": {},
     "output_type": "execute_result"
    }
   ],
   "source": [
    "arr3_float=arr3.astype(\"float\")\n",
    "print(arr3_float.dtype)\n",
    "arr3_float"
   ]
  },
  {
   "cell_type": "markdown",
   "id": "4a41d76e",
   "metadata": {},
   "source": [
    "## Slicing And Accessing"
   ]
  },
  {
   "cell_type": "code",
   "execution_count": 53,
   "id": "67bd9343",
   "metadata": {},
   "outputs": [
    {
     "data": {
      "text/plain": [
       "array([[ 1,  2,  3,  4],\n",
       "       [ 5,  6,  7,  8],\n",
       "       [ 9, 10, 11, 12],\n",
       "       [13, 14, 15, 16],\n",
       "       [17, 18, 19, 20]])"
      ]
     },
     "execution_count": 53,
     "metadata": {},
     "output_type": "execute_result"
    }
   ],
   "source": [
    "arr4= np.arange(1,21).reshape(5,4)\n",
    "arr4"
   ]
  },
  {
   "cell_type": "code",
   "execution_count": 54,
   "id": "e118ca42",
   "metadata": {},
   "outputs": [
    {
     "data": {
      "text/plain": [
       "array([1, 2, 3, 4])"
      ]
     },
     "execution_count": 54,
     "metadata": {},
     "output_type": "execute_result"
    }
   ],
   "source": [
    "arr4[0]"
   ]
  },
  {
   "cell_type": "markdown",
   "id": "7d293325",
   "metadata": {},
   "source": [
    "<strong> Continous Slicing"
   ]
  },
  {
   "cell_type": "code",
   "execution_count": 57,
   "id": "39783dc8",
   "metadata": {},
   "outputs": [
    {
     "data": {
      "text/plain": [
       "array([ 4,  8, 12, 16, 20])"
      ]
     },
     "execution_count": 57,
     "metadata": {},
     "output_type": "execute_result"
    }
   ],
   "source": [
    "arr4[:,3]      # 4th column of every row"
   ]
  },
  {
   "cell_type": "code",
   "execution_count": 60,
   "id": "4ac05c91",
   "metadata": {},
   "outputs": [
    {
     "data": {
      "text/plain": [
       "array([[ 2,  3],\n",
       "       [ 6,  7],\n",
       "       [10, 11],\n",
       "       [14, 15],\n",
       "       [18, 19]])"
      ]
     },
     "execution_count": 60,
     "metadata": {},
     "output_type": "execute_result"
    }
   ],
   "source": [
    "arr4[:,1:3]    # 1 to 3(excluding 3) of every row"
   ]
  },
  {
   "cell_type": "code",
   "execution_count": 63,
   "id": "0469496b",
   "metadata": {},
   "outputs": [
    {
     "data": {
      "text/plain": [
       "array([[ 5,  6,  7],\n",
       "       [ 9, 10, 11]])"
      ]
     },
     "execution_count": 63,
     "metadata": {},
     "output_type": "execute_result"
    }
   ],
   "source": [
    "arr4[1:3,:3]   # 0 to 3 column of 1 to 3 row"
   ]
  },
  {
   "cell_type": "markdown",
   "id": "7e670dca",
   "metadata": {},
   "source": [
    "<strong> Discontinous Slicing"
   ]
  },
  {
   "cell_type": "code",
   "execution_count": 66,
   "id": "82f96cc6",
   "metadata": {},
   "outputs": [
    {
     "data": {
      "text/plain": [
       "array([[ 2,  4],\n",
       "       [ 6,  8],\n",
       "       [10, 12],\n",
       "       [14, 16],\n",
       "       [18, 20]])"
      ]
     },
     "execution_count": 66,
     "metadata": {},
     "output_type": "execute_result"
    }
   ],
   "source": [
    "arr4[:,[1,3]]     # 1 and 3 column of every row"
   ]
  },
  {
   "cell_type": "code",
   "execution_count": 68,
   "id": "a45fefa3",
   "metadata": {},
   "outputs": [
    {
     "data": {
      "text/plain": [
       "array([[ 1,  3],\n",
       "       [ 9, 11],\n",
       "       [17, 19]])"
      ]
     },
     "execution_count": 68,
     "metadata": {},
     "output_type": "execute_result"
    }
   ],
   "source": [
    "arr4[[0,2,4]][:,[0,2]]   # 0 and 2 column of 0,2 and 4 row"
   ]
  },
  {
   "cell_type": "markdown",
   "id": "4a91a874",
   "metadata": {},
   "source": [
    "<strong> Conditional Accessing"
   ]
  },
  {
   "cell_type": "code",
   "execution_count": 185,
   "id": "8deeb4c0",
   "metadata": {},
   "outputs": [
    {
     "data": {
      "text/plain": [
       "array([[ 1,  2,  3,  4],\n",
       "       [ 5,  6,  7,  8],\n",
       "       [ 9, 10, 11, 12],\n",
       "       [13, 14, 15, 16],\n",
       "       [17, 18, 19, 20]])"
      ]
     },
     "execution_count": 185,
     "metadata": {},
     "output_type": "execute_result"
    }
   ],
   "source": [
    "arr4"
   ]
  },
  {
   "cell_type": "code",
   "execution_count": 188,
   "id": "c27eaced",
   "metadata": {},
   "outputs": [
    {
     "data": {
      "text/plain": [
       "array([[False, False, False, False],\n",
       "       [False,  True,  True,  True],\n",
       "       [ True,  True,  True,  True],\n",
       "       [ True,  True,  True,  True],\n",
       "       [ True,  True,  True,  True]])"
      ]
     },
     "execution_count": 188,
     "metadata": {},
     "output_type": "execute_result"
    }
   ],
   "source": [
    "arr4>5"
   ]
  },
  {
   "cell_type": "code",
   "execution_count": 187,
   "id": "6e0ae9ea",
   "metadata": {},
   "outputs": [
    {
     "data": {
      "text/plain": [
       "array([ 6,  7,  8,  9, 10, 11, 12, 13, 14, 15, 16, 17, 18, 19, 20])"
      ]
     },
     "execution_count": 187,
     "metadata": {},
     "output_type": "execute_result"
    }
   ],
   "source": [
    "arr4[arr4>5]"
   ]
  },
  {
   "cell_type": "code",
   "execution_count": 190,
   "id": "6a537769",
   "metadata": {},
   "outputs": [
    {
     "data": {
      "text/plain": [
       "array([ 6,  7,  8,  9, 10, 11, 12, 13, 14])"
      ]
     },
     "execution_count": 190,
     "metadata": {},
     "output_type": "execute_result"
    }
   ],
   "source": [
    "arr4[(arr4>5) & (arr4<15)]"
   ]
  },
  {
   "cell_type": "markdown",
   "id": "3f5af89a",
   "metadata": {},
   "source": [
    "## Basic Mathematical Operations"
   ]
  },
  {
   "cell_type": "markdown",
   "id": "8185d203",
   "metadata": {},
   "source": [
    "<strong> Arithmetics"
   ]
  },
  {
   "cell_type": "code",
   "execution_count": 84,
   "id": "16fef975",
   "metadata": {},
   "outputs": [
    {
     "data": {
      "text/plain": [
       "array([[16, 17, 18, 19, 20],\n",
       "       [21, 22, 23, 24, 25],\n",
       "       [26, 27, 28, 29, 30]])"
      ]
     },
     "execution_count": 84,
     "metadata": {},
     "output_type": "execute_result"
    }
   ],
   "source": [
    "arr6= np.arange(16,31).reshape(3,5)\n",
    "arr6"
   ]
  },
  {
   "cell_type": "code",
   "execution_count": 74,
   "id": "2a91961f",
   "metadata": {},
   "outputs": [
    {
     "data": {
      "text/plain": [
       "array([[ 1,  2,  3,  4,  5],\n",
       "       [ 6,  7,  8,  9, 10],\n",
       "       [11, 12, 13, 14, 15]])"
      ]
     },
     "execution_count": 74,
     "metadata": {},
     "output_type": "execute_result"
    }
   ],
   "source": [
    "arr5=np.arange(1,16).reshape(3,5)\n",
    "arr5"
   ]
  },
  {
   "cell_type": "code",
   "execution_count": 75,
   "id": "8e3776d8",
   "metadata": {},
   "outputs": [
    {
     "data": {
      "text/plain": [
       "array([[ 2,  4,  6,  8, 10],\n",
       "       [12, 14, 16, 18, 20],\n",
       "       [22, 24, 26, 28, 30]])"
      ]
     },
     "execution_count": 75,
     "metadata": {},
     "output_type": "execute_result"
    }
   ],
   "source": [
    "arr5*2"
   ]
  },
  {
   "cell_type": "code",
   "execution_count": 85,
   "id": "f7b6a6b0",
   "metadata": {},
   "outputs": [
    {
     "data": {
      "text/plain": [
       "array([[ 16,  34,  54,  76, 100],\n",
       "       [126, 154, 184, 216, 250],\n",
       "       [286, 324, 364, 406, 450]])"
      ]
     },
     "execution_count": 85,
     "metadata": {},
     "output_type": "execute_result"
    }
   ],
   "source": [
    "arr5*arr6"
   ]
  },
  {
   "cell_type": "code",
   "execution_count": 76,
   "id": "534fab3c",
   "metadata": {},
   "outputs": [
    {
     "data": {
      "text/plain": [
       "array([[ 3,  4,  5,  6,  7],\n",
       "       [ 8,  9, 10, 11, 12],\n",
       "       [13, 14, 15, 16, 17]])"
      ]
     },
     "execution_count": 76,
     "metadata": {},
     "output_type": "execute_result"
    }
   ],
   "source": [
    "arr5+2"
   ]
  },
  {
   "cell_type": "code",
   "execution_count": 86,
   "id": "943275e5",
   "metadata": {},
   "outputs": [
    {
     "data": {
      "text/plain": [
       "array([[17, 19, 21, 23, 25],\n",
       "       [27, 29, 31, 33, 35],\n",
       "       [37, 39, 41, 43, 45]])"
      ]
     },
     "execution_count": 86,
     "metadata": {},
     "output_type": "execute_result"
    }
   ],
   "source": [
    "arr5+arr6"
   ]
  },
  {
   "cell_type": "code",
   "execution_count": 87,
   "id": "ab91354e",
   "metadata": {},
   "outputs": [
    {
     "data": {
      "text/plain": [
       "array([[15, 15, 15, 15, 15],\n",
       "       [15, 15, 15, 15, 15],\n",
       "       [15, 15, 15, 15, 15]])"
      ]
     },
     "execution_count": 87,
     "metadata": {},
     "output_type": "execute_result"
    }
   ],
   "source": [
    "arr6-arr5 "
   ]
  },
  {
   "cell_type": "code",
   "execution_count": 81,
   "id": "718051fd",
   "metadata": {},
   "outputs": [
    {
     "data": {
      "text/plain": [
       "array([[-9, -8, -7, -6, -5],\n",
       "       [-4, -3, -2, -1,  0],\n",
       "       [ 1,  2,  3,  4,  5]])"
      ]
     },
     "execution_count": 81,
     "metadata": {},
     "output_type": "execute_result"
    }
   ],
   "source": [
    "arr5-10"
   ]
  },
  {
   "cell_type": "code",
   "execution_count": 88,
   "id": "cdd2e9f5",
   "metadata": {},
   "outputs": [
    {
     "data": {
      "text/plain": [
       "array([[16.        ,  8.5       ,  6.        ,  4.75      ,  4.        ],\n",
       "       [ 3.5       ,  3.14285714,  2.875     ,  2.66666667,  2.5       ],\n",
       "       [ 2.36363636,  2.25      ,  2.15384615,  2.07142857,  2.        ]])"
      ]
     },
     "execution_count": 88,
     "metadata": {},
     "output_type": "execute_result"
    }
   ],
   "source": [
    "arr6/arr5"
   ]
  },
  {
   "cell_type": "code",
   "execution_count": 77,
   "id": "6720b1b3",
   "metadata": {},
   "outputs": [
    {
     "data": {
      "text/plain": [
       "array([[0.5, 1. , 1.5, 2. , 2.5],\n",
       "       [3. , 3.5, 4. , 4.5, 5. ],\n",
       "       [5.5, 6. , 6.5, 7. , 7.5]])"
      ]
     },
     "execution_count": 77,
     "metadata": {},
     "output_type": "execute_result"
    }
   ],
   "source": [
    "arr5/2"
   ]
  },
  {
   "cell_type": "code",
   "execution_count": 89,
   "id": "55d62a0a",
   "metadata": {},
   "outputs": [
    {
     "data": {
      "text/plain": [
       "array([[0, 1, 0, 3, 0],\n",
       "       [3, 1, 7, 6, 5],\n",
       "       [4, 3, 2, 1, 0]])"
      ]
     },
     "execution_count": 89,
     "metadata": {},
     "output_type": "execute_result"
    }
   ],
   "source": [
    "arr6%arr5"
   ]
  },
  {
   "cell_type": "code",
   "execution_count": 79,
   "id": "ef58e4ad",
   "metadata": {},
   "outputs": [
    {
     "data": {
      "text/plain": [
       "array([[1, 2, 3, 4, 0],\n",
       "       [1, 2, 3, 4, 0],\n",
       "       [1, 2, 3, 4, 0]], dtype=int32)"
      ]
     },
     "execution_count": 79,
     "metadata": {},
     "output_type": "execute_result"
    }
   ],
   "source": [
    "arr5%5"
   ]
  },
  {
   "cell_type": "code",
   "execution_count": 90,
   "id": "9c75628b",
   "metadata": {},
   "outputs": [
    {
     "data": {
      "text/plain": [
       "array([[         16,         289,        5832,      130321,     3200000],\n",
       "       [   85766121, -1800609408,  1001573953,   402653184,  1977800241],\n",
       "       [-1420187648, -1953380655, -1677721600,  1779365433, -2080931840]])"
      ]
     },
     "execution_count": 90,
     "metadata": {},
     "output_type": "execute_result"
    }
   ],
   "source": [
    "arr6**arr5"
   ]
  },
  {
   "cell_type": "code",
   "execution_count": 80,
   "id": "2d1c3215",
   "metadata": {},
   "outputs": [
    {
     "data": {
      "text/plain": [
       "array([[  1,   4,   9,  16,  25],\n",
       "       [ 36,  49,  64,  81, 100],\n",
       "       [121, 144, 169, 196, 225]])"
      ]
     },
     "execution_count": 80,
     "metadata": {},
     "output_type": "execute_result"
    }
   ],
   "source": [
    "arr5**2"
   ]
  },
  {
   "attachments": {},
   "cell_type": "markdown",
   "id": "53e74bb0",
   "metadata": {},
   "source": [
    "<strong> Dot Product"
   ]
  },
  {
   "cell_type": "code",
   "execution_count": 95,
   "id": "30dea50f",
   "metadata": {},
   "outputs": [
    {
     "name": "stdout",
     "output_type": "stream",
     "text": [
      "(3, 5)\n"
     ]
    },
    {
     "data": {
      "text/plain": [
       "array([[ 360,  375,  390],\n",
       "       [ 910,  950,  990],\n",
       "       [1460, 1525, 1590]])"
      ]
     },
     "execution_count": 95,
     "metadata": {},
     "output_type": "execute_result"
    }
   ],
   "source": [
    "arr6=arr6.reshape(5,3)    # arr5(m,n) and arr6(p,q) n should be equal to p.\n",
    "print(arr5.shape)\n",
    "arr5.dot(arr6)"
   ]
  },
  {
   "cell_type": "markdown",
   "id": "66f8e2ed",
   "metadata": {},
   "source": [
    "<strong> Statical Operations"
   ]
  },
  {
   "cell_type": "code",
   "execution_count": 102,
   "id": "75a26338",
   "metadata": {},
   "outputs": [
    {
     "data": {
      "text/plain": [
       "array([[25,  7, 39,  7,  8],\n",
       "       [ 7,  5, 40,  8,  8],\n",
       "       [49, 47, 31, 21, 34]])"
      ]
     },
     "execution_count": 102,
     "metadata": {},
     "output_type": "execute_result"
    }
   ],
   "source": [
    "arr7=np.random.randint(1,50,15).reshape(3,5)\n",
    "arr7"
   ]
  },
  {
   "cell_type": "code",
   "execution_count": 107,
   "id": "affca630",
   "metadata": {},
   "outputs": [
    {
     "data": {
      "text/plain": [
       "5"
      ]
     },
     "execution_count": 107,
     "metadata": {},
     "output_type": "execute_result"
    }
   ],
   "source": [
    "arr7.min()  # it gives the minimum value from the numpy array"
   ]
  },
  {
   "cell_type": "code",
   "execution_count": 103,
   "id": "d62c601d",
   "metadata": {},
   "outputs": [
    {
     "data": {
      "text/plain": [
       "array([ 7,  5, 31,  7,  8])"
      ]
     },
     "execution_count": 103,
     "metadata": {},
     "output_type": "execute_result"
    }
   ],
   "source": [
    "arr7.min(axis=0)   #it gives the min value from each column."
   ]
  },
  {
   "cell_type": "code",
   "execution_count": 104,
   "id": "9bfb3352",
   "metadata": {},
   "outputs": [
    {
     "data": {
      "text/plain": [
       "array([ 7,  5, 21])"
      ]
     },
     "execution_count": 104,
     "metadata": {},
     "output_type": "execute_result"
    }
   ],
   "source": [
    "arr7.min(axis=1) # it gives the min values from each row "
   ]
  },
  {
   "cell_type": "code",
   "execution_count": 105,
   "id": "d1382373",
   "metadata": {},
   "outputs": [
    {
     "data": {
      "text/plain": [
       "49"
      ]
     },
     "execution_count": 105,
     "metadata": {},
     "output_type": "execute_result"
    }
   ],
   "source": [
    "arr7.max() #optional axis=0,1"
   ]
  },
  {
   "cell_type": "code",
   "execution_count": 108,
   "id": "73adff48",
   "metadata": {},
   "outputs": [
    {
     "data": {
      "text/plain": [
       "22.4"
      ]
     },
     "execution_count": 108,
     "metadata": {},
     "output_type": "execute_result"
    }
   ],
   "source": [
    "arr7.mean() #optional axis=0,1"
   ]
  },
  {
   "cell_type": "code",
   "execution_count": 119,
   "id": "1dafb367",
   "metadata": {},
   "outputs": [
    {
     "data": {
      "text/plain": [
       "336"
      ]
     },
     "execution_count": 119,
     "metadata": {},
     "output_type": "execute_result"
    }
   ],
   "source": [
    "arr7.sum()"
   ]
  },
  {
   "cell_type": "code",
   "execution_count": 109,
   "id": "b36f17bc",
   "metadata": {},
   "outputs": [
    {
     "data": {
      "text/plain": [
       "21.0"
      ]
     },
     "execution_count": 109,
     "metadata": {},
     "output_type": "execute_result"
    }
   ],
   "source": [
    "np.median(arr7)"
   ]
  },
  {
   "cell_type": "code",
   "execution_count": 110,
   "id": "9ce35e84",
   "metadata": {},
   "outputs": [
    {
     "data": {
      "text/plain": [
       "array([[7.20048993e+10, 1.09663316e+03, 8.65934004e+16, 1.09663316e+03,\n",
       "        2.98095799e+03],\n",
       "       [1.09663316e+03, 1.48413159e+02, 2.35385267e+17, 2.98095799e+03,\n",
       "        2.98095799e+03],\n",
       "       [1.90734657e+21, 2.58131289e+20, 2.90488497e+13, 1.31881573e+09,\n",
       "        5.83461743e+14]])"
      ]
     },
     "execution_count": 110,
     "metadata": {},
     "output_type": "execute_result"
    }
   ],
   "source": [
    "np.exp(arr7)  # exp(2)---> e=2.71828**2"
   ]
  },
  {
   "cell_type": "code",
   "execution_count": 113,
   "id": "39772f3e",
   "metadata": {},
   "outputs": [
    {
     "data": {
      "text/plain": [
       "array([[5.        , 2.64575131, 6.244998  , 2.64575131, 2.82842712],\n",
       "       [2.64575131, 2.23606798, 6.32455532, 2.82842712, 2.82842712],\n",
       "       [7.        , 6.8556546 , 5.56776436, 4.58257569, 5.83095189]])"
      ]
     },
     "execution_count": 113,
     "metadata": {},
     "output_type": "execute_result"
    }
   ],
   "source": [
    "np.sqrt(arr7)"
   ]
  },
  {
   "cell_type": "code",
   "execution_count": 115,
   "id": "8c223d39",
   "metadata": {},
   "outputs": [
    {
     "data": {
      "text/plain": [
       "15.814761037292554"
      ]
     },
     "execution_count": 115,
     "metadata": {},
     "output_type": "execute_result"
    }
   ],
   "source": [
    "np.std(arr7)"
   ]
  },
  {
   "cell_type": "code",
   "execution_count": 116,
   "id": "3e625785",
   "metadata": {},
   "outputs": [
    {
     "data": {
      "text/plain": [
       "10"
      ]
     },
     "execution_count": 116,
     "metadata": {},
     "output_type": "execute_result"
    }
   ],
   "source": [
    "np.argmax(arr7) # return index of max element assuming it a 1d array"
   ]
  },
  {
   "cell_type": "code",
   "execution_count": 117,
   "id": "a7061360",
   "metadata": {},
   "outputs": [
    {
     "data": {
      "text/plain": [
       "6"
      ]
     },
     "execution_count": 117,
     "metadata": {},
     "output_type": "execute_result"
    }
   ],
   "source": [
    "np.argmin(arr7) ## return index of min element assuming it a 1d array"
   ]
  },
  {
   "cell_type": "markdown",
   "id": "6703e145",
   "metadata": {},
   "source": [
    "## Reshaping"
   ]
  },
  {
   "cell_type": "code",
   "execution_count": 120,
   "id": "50580d89",
   "metadata": {},
   "outputs": [
    {
     "data": {
      "text/plain": [
       "array([[25,  7, 39,  7,  8],\n",
       "       [ 7,  5, 40,  8,  8],\n",
       "       [49, 47, 31, 21, 34]])"
      ]
     },
     "execution_count": 120,
     "metadata": {},
     "output_type": "execute_result"
    }
   ],
   "source": [
    "arr8=arr7\n",
    "arr8"
   ]
  },
  {
   "cell_type": "code",
   "execution_count": 121,
   "id": "b087ea0b",
   "metadata": {},
   "outputs": [
    {
     "data": {
      "text/plain": [
       "array([25,  7, 39,  7,  8,  7,  5, 40,  8,  8, 49, 47, 31, 21, 34])"
      ]
     },
     "execution_count": 121,
     "metadata": {},
     "output_type": "execute_result"
    }
   ],
   "source": [
    "arr8.ravel()  # converts n-dim array in 1d array."
   ]
  },
  {
   "cell_type": "code",
   "execution_count": 124,
   "id": "36f9afbe",
   "metadata": {},
   "outputs": [
    {
     "name": "stdout",
     "output_type": "stream",
     "text": [
      "15\n",
      "(3, 5)\n"
     ]
    }
   ],
   "source": [
    "print(arr8.size)\n",
    "print(arr8.shape)"
   ]
  },
  {
   "cell_type": "code",
   "execution_count": 128,
   "id": "e5409c5c",
   "metadata": {},
   "outputs": [
    {
     "data": {
      "text/plain": [
       "array([[25,  7, 39],\n",
       "       [ 7,  8,  7],\n",
       "       [ 5, 40,  8],\n",
       "       [ 8, 49, 47],\n",
       "       [31, 21, 34]])"
      ]
     },
     "execution_count": 128,
     "metadata": {},
     "output_type": "execute_result"
    }
   ],
   "source": [
    "arr8.reshape(5,3) # returns a new array of new shape "
   ]
  },
  {
   "cell_type": "code",
   "execution_count": 131,
   "id": "16b0b06c",
   "metadata": {},
   "outputs": [
    {
     "data": {
      "text/plain": [
       "array([[[25,  7, 39,  7,  8]],\n",
       "\n",
       "       [[ 7,  5, 40,  8,  8]],\n",
       "\n",
       "       [[49, 47, 31, 21, 34]]])"
      ]
     },
     "execution_count": 131,
     "metadata": {},
     "output_type": "execute_result"
    }
   ],
   "source": [
    "arr8.reshape(3,1,5) # reshaping into 3d array"
   ]
  },
  {
   "cell_type": "markdown",
   "id": "4fa8248b",
   "metadata": {},
   "source": [
    "<strong>Shape should give size as its multiplication result."
   ]
  },
  {
   "cell_type": "code",
   "execution_count": 132,
   "id": "d02e09e7",
   "metadata": {},
   "outputs": [
    {
     "data": {
      "text/plain": [
       "array([[25,  7, 39,  7,  8],\n",
       "       [ 7,  5, 40,  8,  8],\n",
       "       [49, 47, 31, 21, 34]])"
      ]
     },
     "execution_count": 132,
     "metadata": {},
     "output_type": "execute_result"
    }
   ],
   "source": [
    "arr8"
   ]
  },
  {
   "cell_type": "code",
   "execution_count": 138,
   "id": "8e29c82e",
   "metadata": {},
   "outputs": [
    {
     "data": {
      "text/plain": [
       "array([[25,  7, 49],\n",
       "       [ 7,  5, 47],\n",
       "       [39, 40, 31],\n",
       "       [ 7,  8, 21],\n",
       "       [ 8,  8, 34]])"
      ]
     },
     "execution_count": 138,
     "metadata": {},
     "output_type": "execute_result"
    }
   ],
   "source": [
    "arr8.transpose()  # shape (x,y)----> (y,x)"
   ]
  },
  {
   "cell_type": "code",
   "execution_count": 165,
   "id": "09c7c503",
   "metadata": {},
   "outputs": [],
   "source": [
    "hp1= np.arange(1,11).reshape(5,2)\n",
    "hp2= np.arange(11,21).reshape(5,2)"
   ]
  },
  {
   "cell_type": "code",
   "execution_count": 166,
   "id": "dad8fa89",
   "metadata": {},
   "outputs": [
    {
     "data": {
      "text/plain": [
       "array([[ 1,  2],\n",
       "       [ 3,  4],\n",
       "       [ 5,  6],\n",
       "       [ 7,  8],\n",
       "       [ 9, 10]])"
      ]
     },
     "execution_count": 166,
     "metadata": {},
     "output_type": "execute_result"
    }
   ],
   "source": [
    "hp1"
   ]
  },
  {
   "cell_type": "code",
   "execution_count": 167,
   "id": "10b699e3",
   "metadata": {},
   "outputs": [
    {
     "data": {
      "text/plain": [
       "array([[11, 12],\n",
       "       [13, 14],\n",
       "       [15, 16],\n",
       "       [17, 18],\n",
       "       [19, 20]])"
      ]
     },
     "execution_count": 167,
     "metadata": {},
     "output_type": "execute_result"
    }
   ],
   "source": [
    "hp2"
   ]
  },
  {
   "cell_type": "code",
   "execution_count": 171,
   "id": "d0895cdd",
   "metadata": {},
   "outputs": [
    {
     "data": {
      "text/plain": [
       "array([[ 1,  2, 11, 12],\n",
       "       [ 3,  4, 13, 14],\n",
       "       [ 5,  6, 15, 16],\n",
       "       [ 7,  8, 17, 18],\n",
       "       [ 9, 10, 19, 20]])"
      ]
     },
     "execution_count": 171,
     "metadata": {},
     "output_type": "execute_result"
    }
   ],
   "source": [
    "h_stacked=np.hstack((hp1,hp2))\n",
    "h_stacked"
   ]
  },
  {
   "cell_type": "code",
   "execution_count": 170,
   "id": "a8491d16",
   "metadata": {},
   "outputs": [
    {
     "data": {
      "text/plain": [
       "array([[ 1,  2],\n",
       "       [ 3,  4],\n",
       "       [ 5,  6],\n",
       "       [ 7,  8],\n",
       "       [ 9, 10],\n",
       "       [11, 12],\n",
       "       [13, 14],\n",
       "       [15, 16],\n",
       "       [17, 18],\n",
       "       [19, 20]])"
      ]
     },
     "execution_count": 170,
     "metadata": {},
     "output_type": "execute_result"
    }
   ],
   "source": [
    "v_stacked=np.vstack((hp1,hp2))\n",
    "v_stacked"
   ]
  },
  {
   "cell_type": "code",
   "execution_count": 184,
   "id": "a9f87df2",
   "metadata": {},
   "outputs": [
    {
     "data": {
      "text/plain": [
       "[array([[1],\n",
       "        [3],\n",
       "        [5],\n",
       "        [7],\n",
       "        [9]]),\n",
       " array([[ 2],\n",
       "        [ 4],\n",
       "        [ 6],\n",
       "        [ 8],\n",
       "        [10]]),\n",
       " array([[11],\n",
       "        [13],\n",
       "        [15],\n",
       "        [17],\n",
       "        [19]]),\n",
       " array([[12],\n",
       "        [14],\n",
       "        [16],\n",
       "        [18],\n",
       "        [20]])]"
      ]
     },
     "execution_count": 184,
     "metadata": {},
     "output_type": "execute_result"
    }
   ],
   "source": [
    "np.hsplit(h_stacked,4)"
   ]
  },
  {
   "cell_type": "code",
   "execution_count": 183,
   "id": "dca998cf",
   "metadata": {},
   "outputs": [
    {
     "data": {
      "text/plain": [
       "[array([[1, 2],\n",
       "        [3, 4]]),\n",
       " array([[5, 6],\n",
       "        [7, 8]]),\n",
       " array([[ 9, 10],\n",
       "        [11, 12]]),\n",
       " array([[13, 14],\n",
       "        [15, 16]]),\n",
       " array([[17, 18],\n",
       "        [19, 20]])]"
      ]
     },
     "execution_count": 183,
     "metadata": {},
     "output_type": "execute_result"
    }
   ],
   "source": [
    "np.vsplit(v_stacked,5)"
   ]
  },
  {
   "cell_type": "markdown",
   "id": "54546120",
   "metadata": {},
   "source": [
    "## Extra "
   ]
  },
  {
   "cell_type": "markdown",
   "id": "852f2af0",
   "metadata": {},
   "source": [
    "<strong>1.nditer"
   ]
  },
  {
   "cell_type": "code",
   "execution_count": 192,
   "id": "d3b95ab8",
   "metadata": {},
   "outputs": [
    {
     "data": {
      "text/plain": [
       "array([10, 12,  1,  0,  7, 19, 18, 17,  2, 19])"
      ]
     },
     "execution_count": 192,
     "metadata": {},
     "output_type": "execute_result"
    }
   ],
   "source": [
    "arr9= np.random.randint(0,20,10)\n",
    "arr9"
   ]
  },
  {
   "cell_type": "code",
   "execution_count": 199,
   "id": "9983af2b",
   "metadata": {},
   "outputs": [
    {
     "name": "stdout",
     "output_type": "stream",
     "text": [
      "10  12  1  0  7  19  18  17  2  19  "
     ]
    }
   ],
   "source": [
    "for i in np.nditer(arr9):\n",
    "    print(i,end=\"  \")"
   ]
  },
  {
   "cell_type": "code",
   "execution_count": 197,
   "id": "91c3f04d",
   "metadata": {},
   "outputs": [
    {
     "data": {
      "text/plain": [
       "array([[10, 12],\n",
       "       [ 1,  0],\n",
       "       [ 7, 19],\n",
       "       [18, 17],\n",
       "       [ 2, 19]])"
      ]
     },
     "execution_count": 197,
     "metadata": {},
     "output_type": "execute_result"
    }
   ],
   "source": [
    "arr10=arr9.reshape(5,2)\n",
    "arr10"
   ]
  },
  {
   "cell_type": "code",
   "execution_count": 198,
   "id": "7a271ff8",
   "metadata": {},
   "outputs": [
    {
     "name": "stdout",
     "output_type": "stream",
     "text": [
      "10  12  1  0  7  19  18  17  2  19  "
     ]
    }
   ],
   "source": [
    "for i in np.nditer(arr10):\n",
    "    print(i,end=\"  \")"
   ]
  },
  {
   "cell_type": "markdown",
   "id": "b5e23a2b",
   "metadata": {},
   "source": [
    "<strong>2. assigning"
   ]
  },
  {
   "cell_type": "markdown",
   "id": "b4dc082e",
   "metadata": {},
   "source": [
    "Here we will make an array with range(1,20) and we will change the odd numbers in the array by adding 1 into it."
   ]
  },
  {
   "cell_type": "code",
   "execution_count": 201,
   "id": "d6ec5308",
   "metadata": {},
   "outputs": [
    {
     "data": {
      "text/plain": [
       "array([ 1,  2,  3,  4,  5,  6,  7,  8,  9, 10, 11, 12, 13, 14, 15, 16, 17,\n",
       "       18, 19])"
      ]
     },
     "execution_count": 201,
     "metadata": {},
     "output_type": "execute_result"
    }
   ],
   "source": [
    "num_arr= np.arange(1,20)\n",
    "num_arr"
   ]
  },
  {
   "cell_type": "code",
   "execution_count": 208,
   "id": "5374ae9a",
   "metadata": {},
   "outputs": [
    {
     "data": {
      "text/plain": [
       "array([ 2,  2,  4,  4,  6,  6,  8,  8, 10, 10, 12, 12, 14, 14, 16, 16, 18,\n",
       "       18, 20])"
      ]
     },
     "execution_count": 208,
     "metadata": {},
     "output_type": "execute_result"
    }
   ],
   "source": [
    "num_arr[num_arr%2 !=0]+=1\n",
    "num_arr"
   ]
  },
  {
   "cell_type": "markdown",
   "id": "57672ee7",
   "metadata": {},
   "source": [
    "Now what if i do not want to alter the original array so we can just apply np.where which will gives us a new array."
   ]
  },
  {
   "cell_type": "markdown",
   "id": "856006c3",
   "metadata": {},
   "source": [
    "##### Where"
   ]
  },
  {
   "cell_type": "code",
   "execution_count": 214,
   "id": "443d8650",
   "metadata": {},
   "outputs": [
    {
     "data": {
      "text/plain": [
       "array([ 2,  2,  4,  4,  6,  6,  8,  8, 10, 10, 12, 12, 14, 14, 16, 16, 18,\n",
       "       18, 20])"
      ]
     },
     "execution_count": 214,
     "metadata": {},
     "output_type": "execute_result"
    }
   ],
   "source": [
    "even_arr= np.where(num_arr%2 !=0,num_arr+1,num_arr)\n",
    "even_arr"
   ]
  },
  {
   "cell_type": "markdown",
   "id": "5bbf124e",
   "metadata": {},
   "source": [
    "<strong>3. Sort"
   ]
  },
  {
   "cell_type": "code",
   "execution_count": 236,
   "id": "352bd0be",
   "metadata": {},
   "outputs": [
    {
     "data": {
      "text/plain": [
       "array([ 1,  6,  6,  9, 10, 12, 12, 13, 16, 17])"
      ]
     },
     "execution_count": 236,
     "metadata": {},
     "output_type": "execute_result"
    }
   ],
   "source": [
    "np.random.seed(1)\n",
    "arr10= np.random.randint(1,20,10)\n",
    "np.sort(arr10)"
   ]
  },
  {
   "cell_type": "code",
   "execution_count": 240,
   "id": "0844a31b",
   "metadata": {},
   "outputs": [
    {
     "data": {
      "text/plain": [
       "array([ 6, 12, 13,  9, 10, 12,  6, 16,  1, 17])"
      ]
     },
     "execution_count": 240,
     "metadata": {},
     "output_type": "execute_result"
    }
   ],
   "source": [
    "arr10"
   ]
  },
  {
   "cell_type": "code",
   "execution_count": 242,
   "id": "1fded04e",
   "metadata": {},
   "outputs": [
    {
     "data": {
      "text/plain": [
       "array([[ 6, 12, 13,  9, 10],\n",
       "       [12,  6, 16,  1, 17]])"
      ]
     },
     "execution_count": 242,
     "metadata": {},
     "output_type": "execute_result"
    }
   ],
   "source": [
    "arr11=arr10.reshape(2,5)\n",
    "arr11"
   ]
  },
  {
   "cell_type": "code",
   "execution_count": 245,
   "id": "3f5d05f9",
   "metadata": {},
   "outputs": [
    {
     "data": {
      "text/plain": [
       "array([[ 6,  6, 13,  1, 10],\n",
       "       [12, 12, 16,  9, 17]])"
      ]
     },
     "execution_count": 245,
     "metadata": {},
     "output_type": "execute_result"
    }
   ],
   "source": [
    "np.sort(arr11,axis=0)   # Sorted on columns"
   ]
  },
  {
   "cell_type": "code",
   "execution_count": 247,
   "id": "f9e8f783",
   "metadata": {},
   "outputs": [
    {
     "data": {
      "text/plain": [
       "array([[ 6,  9, 10, 12, 13],\n",
       "       [ 1,  6, 12, 16, 17]])"
      ]
     },
     "execution_count": 247,
     "metadata": {},
     "output_type": "execute_result"
    }
   ],
   "source": [
    "np.sort(arr11,axis=1)  # Sorted on rows"
   ]
  },
  {
   "cell_type": "markdown",
   "id": "9dc71e6c",
   "metadata": {},
   "source": [
    "<strong>4.Percentile"
   ]
  },
  {
   "cell_type": "code",
   "execution_count": 249,
   "id": "587db296",
   "metadata": {},
   "outputs": [
    {
     "data": {
      "text/plain": [
       "array([ 6, 12, 13,  9, 10, 12,  6, 16,  1, 17])"
      ]
     },
     "execution_count": 249,
     "metadata": {},
     "output_type": "execute_result"
    }
   ],
   "source": [
    "np.random.seed(1)\n",
    "per_arr= np.random.randint(1,20,10)\n",
    "per_arr"
   ]
  },
  {
   "cell_type": "code",
   "execution_count": 251,
   "id": "7d1c24bf",
   "metadata": {},
   "outputs": [
    {
     "data": {
      "text/plain": [
       "array([ 1,  6,  6,  9, 10, 12, 12, 13, 16, 17])"
      ]
     },
     "execution_count": 251,
     "metadata": {},
     "output_type": "execute_result"
    }
   ],
   "source": [
    "np.sort(per_arr)"
   ]
  },
  {
   "cell_type": "code",
   "execution_count": 256,
   "id": "342ca2e4",
   "metadata": {},
   "outputs": [
    {
     "data": {
      "text/plain": [
       "13.600000000000001"
      ]
     },
     "execution_count": 256,
     "metadata": {},
     "output_type": "execute_result"
    }
   ],
   "source": [
    "np.percentile(per_arr,80)"
   ]
  }
 ],
 "metadata": {
  "kernelspec": {
   "display_name": "Python 3 (ipykernel)",
   "language": "python",
   "name": "python3"
  },
  "language_info": {
   "codemirror_mode": {
    "name": "ipython",
    "version": 3
   },
   "file_extension": ".py",
   "mimetype": "text/x-python",
   "name": "python",
   "nbconvert_exporter": "python",
   "pygments_lexer": "ipython3",
   "version": "3.10.7"
  }
 },
 "nbformat": 4,
 "nbformat_minor": 5
}
