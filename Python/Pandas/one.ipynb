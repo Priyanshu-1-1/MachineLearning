{
 "cells": [
  {
   "cell_type": "code",
   "execution_count": 277,
   "id": "b26b2496",
   "metadata": {},
   "outputs": [],
   "source": [
    "import numpy as np\n",
    "import pandas as pd\n",
    "import matplotlib.pyplot as plt\n",
    "%matplotlib inline"
   ]
  },
  {
   "cell_type": "code",
   "execution_count": 278,
   "id": "dd99d57e",
   "metadata": {},
   "outputs": [
    {
     "data": {
      "text/plain": [
       "Index(['id', 'season', 'city', 'date', 'team1', 'team2', 'toss_winner',\n",
       "       'toss_decision', 'result', 'dl_applied', 'winner', 'win_by_runs',\n",
       "       'win_by_wickets', 'player_of_match', 'venue', 'umpire1', 'umpire2',\n",
       "       'umpire3'],\n",
       "      dtype='object')"
      ]
     },
     "execution_count": 278,
     "metadata": {},
     "output_type": "execute_result"
    }
   ],
   "source": [
    "matches= pd.read_csv(\"Ipl.csv\")\n",
    "matches.columns"
   ]
  },
  {
   "cell_type": "code",
   "execution_count": 279,
   "id": "61453ef8",
   "metadata": {},
   "outputs": [],
   "source": [
    "matches.team1.unique()"
   ]
  },
  {
   "cell_type": "code",
   "execution_count": 280,
   "id": "ed6b1c44",
   "metadata": {},
   "outputs": [],
   "source": [
    "matches.replace({'Rising Pune Supergiant':'Rising Pune Supergiants','Delhi Daredevils':'Delhi Capitals'},inplace=True)"
   ]
  },
  {
   "cell_type": "code",
   "execution_count": 281,
   "id": "03510758",
   "metadata": {},
   "outputs": [
    {
     "data": {
      "text/plain": [
       "array(['Sunrisers Hyderabad', 'Mumbai Indians', 'Gujarat Lions',\n",
       "       'Rising Pune Supergiants', 'Royal Challengers Bangalore',\n",
       "       'Kolkata Knight Riders', 'Delhi Capitals', 'Kings XI Punjab',\n",
       "       'Chennai Super Kings', 'Rajasthan Royals', 'Deccan Chargers',\n",
       "       'Kochi Tuskers Kerala', 'Pune Warriors'], dtype=object)"
      ]
     },
     "execution_count": 281,
     "metadata": {},
     "output_type": "execute_result"
    }
   ],
   "source": [
    "matches.team1.unique()"
   ]
  },
  {
   "cell_type": "code",
   "execution_count": 282,
   "id": "bf28ddae",
   "metadata": {
    "scrolled": false
   },
   "outputs": [
    {
     "data": {
      "text/plain": [
       "0        Yuvraj Singh\n",
       "1           SPD Smith\n",
       "2             CA Lynn\n",
       "3          GJ Maxwell\n",
       "4           KM Jadhav\n",
       "            ...      \n",
       "631           V Kohli\n",
       "632    AB de Villiers\n",
       "633      MC Henriques\n",
       "634         DA Warner\n",
       "635       BCJ Cutting\n",
       "Name: player_of_match, Length: 636, dtype: object"
      ]
     },
     "execution_count": 282,
     "metadata": {},
     "output_type": "execute_result"
    }
   ],
   "source": [
    "matches.player_of_match"
   ]
  },
  {
   "cell_type": "code",
   "execution_count": 283,
   "id": "fdfa70d5",
   "metadata": {},
   "outputs": [
    {
     "data": {
      "text/html": [
       "<div>\n",
       "<style scoped>\n",
       "    .dataframe tbody tr th:only-of-type {\n",
       "        vertical-align: middle;\n",
       "    }\n",
       "\n",
       "    .dataframe tbody tr th {\n",
       "        vertical-align: top;\n",
       "    }\n",
       "\n",
       "    .dataframe thead th {\n",
       "        text-align: right;\n",
       "    }\n",
       "</style>\n",
       "<table border=\"1\" class=\"dataframe\">\n",
       "  <thead>\n",
       "    <tr style=\"text-align: right;\">\n",
       "      <th></th>\n",
       "      <th>id</th>\n",
       "      <th>season</th>\n",
       "      <th>city</th>\n",
       "      <th>date</th>\n",
       "      <th>team1</th>\n",
       "      <th>team2</th>\n",
       "      <th>toss_winner</th>\n",
       "      <th>toss_decision</th>\n",
       "      <th>result</th>\n",
       "      <th>dl_applied</th>\n",
       "      <th>winner</th>\n",
       "      <th>win_by_runs</th>\n",
       "      <th>win_by_wickets</th>\n",
       "      <th>player_of_match</th>\n",
       "      <th>venue</th>\n",
       "      <th>umpire1</th>\n",
       "      <th>umpire2</th>\n",
       "      <th>umpire3</th>\n",
       "    </tr>\n",
       "  </thead>\n",
       "  <tbody>\n",
       "    <tr>\n",
       "      <th>1</th>\n",
       "      <td>2</td>\n",
       "      <td>2017</td>\n",
       "      <td>Pune</td>\n",
       "      <td>2017-04-06</td>\n",
       "      <td>Mumbai Indians</td>\n",
       "      <td>Rising Pune Supergiants</td>\n",
       "      <td>Rising Pune Supergiants</td>\n",
       "      <td>field</td>\n",
       "      <td>normal</td>\n",
       "      <td>0</td>\n",
       "      <td>Rising Pune Supergiants</td>\n",
       "      <td>0</td>\n",
       "      <td>7</td>\n",
       "      <td>SPD Smith</td>\n",
       "      <td>Maharashtra Cricket Association Stadium</td>\n",
       "      <td>A Nand Kishore</td>\n",
       "      <td>S Ravi</td>\n",
       "      <td>NaN</td>\n",
       "    </tr>\n",
       "    <tr>\n",
       "      <th>2</th>\n",
       "      <td>3</td>\n",
       "      <td>2017</td>\n",
       "      <td>Rajkot</td>\n",
       "      <td>2017-04-07</td>\n",
       "      <td>Gujarat Lions</td>\n",
       "      <td>Kolkata Knight Riders</td>\n",
       "      <td>Kolkata Knight Riders</td>\n",
       "      <td>field</td>\n",
       "      <td>normal</td>\n",
       "      <td>0</td>\n",
       "      <td>Kolkata Knight Riders</td>\n",
       "      <td>0</td>\n",
       "      <td>10</td>\n",
       "      <td>CA Lynn</td>\n",
       "      <td>Saurashtra Cricket Association Stadium</td>\n",
       "      <td>Nitin Menon</td>\n",
       "      <td>CK Nandan</td>\n",
       "      <td>NaN</td>\n",
       "    </tr>\n",
       "    <tr>\n",
       "      <th>3</th>\n",
       "      <td>4</td>\n",
       "      <td>2017</td>\n",
       "      <td>Indore</td>\n",
       "      <td>2017-04-08</td>\n",
       "      <td>Rising Pune Supergiants</td>\n",
       "      <td>Kings XI Punjab</td>\n",
       "      <td>Kings XI Punjab</td>\n",
       "      <td>field</td>\n",
       "      <td>normal</td>\n",
       "      <td>0</td>\n",
       "      <td>Kings XI Punjab</td>\n",
       "      <td>0</td>\n",
       "      <td>6</td>\n",
       "      <td>GJ Maxwell</td>\n",
       "      <td>Holkar Cricket Stadium</td>\n",
       "      <td>AK Chaudhary</td>\n",
       "      <td>C Shamshuddin</td>\n",
       "      <td>NaN</td>\n",
       "    </tr>\n",
       "  </tbody>\n",
       "</table>\n",
       "</div>"
      ],
      "text/plain": [
       "   id  season    city        date                    team1  \\\n",
       "1   2    2017    Pune  2017-04-06           Mumbai Indians   \n",
       "2   3    2017  Rajkot  2017-04-07            Gujarat Lions   \n",
       "3   4    2017  Indore  2017-04-08  Rising Pune Supergiants   \n",
       "\n",
       "                     team2              toss_winner toss_decision  result  \\\n",
       "1  Rising Pune Supergiants  Rising Pune Supergiants         field  normal   \n",
       "2    Kolkata Knight Riders    Kolkata Knight Riders         field  normal   \n",
       "3          Kings XI Punjab          Kings XI Punjab         field  normal   \n",
       "\n",
       "   dl_applied                   winner  win_by_runs  win_by_wickets  \\\n",
       "1           0  Rising Pune Supergiants            0               7   \n",
       "2           0    Kolkata Knight Riders            0              10   \n",
       "3           0          Kings XI Punjab            0               6   \n",
       "\n",
       "  player_of_match                                    venue         umpire1  \\\n",
       "1       SPD Smith  Maharashtra Cricket Association Stadium  A Nand Kishore   \n",
       "2         CA Lynn   Saurashtra Cricket Association Stadium     Nitin Menon   \n",
       "3      GJ Maxwell                   Holkar Cricket Stadium    AK Chaudhary   \n",
       "\n",
       "         umpire2  umpire3  \n",
       "1         S Ravi      NaN  \n",
       "2      CK Nandan      NaN  \n",
       "3  C Shamshuddin      NaN  "
      ]
     },
     "execution_count": 283,
     "metadata": {},
     "output_type": "execute_result"
    }
   ],
   "source": [
    "matches[1:4]"
   ]
  },
  {
   "cell_type": "code",
   "execution_count": 284,
   "id": "91db06fc",
   "metadata": {},
   "outputs": [
    {
     "data": {
      "text/plain": [
       "id                                                         1\n",
       "season                                                  2017\n",
       "city                                               Hyderabad\n",
       "date                                              2017-04-05\n",
       "team1                                    Sunrisers Hyderabad\n",
       "team2                            Royal Challengers Bangalore\n",
       "toss_winner                      Royal Challengers Bangalore\n",
       "toss_decision                                          field\n",
       "result                                                normal\n",
       "dl_applied                                                 0\n",
       "winner                                   Sunrisers Hyderabad\n",
       "win_by_runs                                               35\n",
       "win_by_wickets                                             0\n",
       "player_of_match                                 Yuvraj Singh\n",
       "venue              Rajiv Gandhi International Stadium, Uppal\n",
       "umpire1                                          AY Dandekar\n",
       "umpire2                                             NJ Llong\n",
       "umpire3                                                  NaN\n",
       "Name: 0, dtype: object"
      ]
     },
     "execution_count": 284,
     "metadata": {},
     "output_type": "execute_result"
    }
   ],
   "source": [
    "matches.iloc[0]"
   ]
  },
  {
   "cell_type": "code",
   "execution_count": 285,
   "id": "d524b3a4",
   "metadata": {},
   "outputs": [
    {
     "name": "stdout",
     "output_type": "stream",
     "text": [
      "<class 'pandas.core.frame.DataFrame'>\n",
      "RangeIndex: 636 entries, 0 to 635\n",
      "Data columns (total 18 columns):\n",
      " #   Column           Non-Null Count  Dtype  \n",
      "---  ------           --------------  -----  \n",
      " 0   id               636 non-null    int64  \n",
      " 1   season           636 non-null    int64  \n",
      " 2   city             629 non-null    object \n",
      " 3   date             636 non-null    object \n",
      " 4   team1            636 non-null    object \n",
      " 5   team2            636 non-null    object \n",
      " 6   toss_winner      636 non-null    object \n",
      " 7   toss_decision    636 non-null    object \n",
      " 8   result           636 non-null    object \n",
      " 9   dl_applied       636 non-null    int64  \n",
      " 10  winner           633 non-null    object \n",
      " 11  win_by_runs      636 non-null    int64  \n",
      " 12  win_by_wickets   636 non-null    int64  \n",
      " 13  player_of_match  633 non-null    object \n",
      " 14  venue            636 non-null    object \n",
      " 15  umpire1          635 non-null    object \n",
      " 16  umpire2          635 non-null    object \n",
      " 17  umpire3          0 non-null      float64\n",
      "dtypes: float64(1), int64(5), object(12)\n",
      "memory usage: 89.6+ KB\n"
     ]
    }
   ],
   "source": [
    "matches.info()"
   ]
  },
  {
   "cell_type": "code",
   "execution_count": 286,
   "id": "a276530c",
   "metadata": {
    "scrolled": true
   },
   "outputs": [
    {
     "data": {
      "text/html": [
       "<div>\n",
       "<style scoped>\n",
       "    .dataframe tbody tr th:only-of-type {\n",
       "        vertical-align: middle;\n",
       "    }\n",
       "\n",
       "    .dataframe tbody tr th {\n",
       "        vertical-align: top;\n",
       "    }\n",
       "\n",
       "    .dataframe thead th {\n",
       "        text-align: right;\n",
       "    }\n",
       "</style>\n",
       "<table border=\"1\" class=\"dataframe\">\n",
       "  <thead>\n",
       "    <tr style=\"text-align: right;\">\n",
       "      <th></th>\n",
       "      <th>id</th>\n",
       "      <th>season</th>\n",
       "      <th>city</th>\n",
       "      <th>date</th>\n",
       "      <th>team1</th>\n",
       "      <th>team2</th>\n",
       "      <th>toss_winner</th>\n",
       "      <th>toss_decision</th>\n",
       "      <th>result</th>\n",
       "      <th>dl_applied</th>\n",
       "      <th>winner</th>\n",
       "      <th>win_by_runs</th>\n",
       "      <th>win_by_wickets</th>\n",
       "      <th>player_of_match</th>\n",
       "      <th>venue</th>\n",
       "      <th>umpire1</th>\n",
       "      <th>umpire2</th>\n",
       "      <th>umpire3</th>\n",
       "    </tr>\n",
       "  </thead>\n",
       "  <tbody>\n",
       "    <tr>\n",
       "      <th>4</th>\n",
       "      <td>5</td>\n",
       "      <td>2017</td>\n",
       "      <td>Bangalore</td>\n",
       "      <td>2017-04-08</td>\n",
       "      <td>Royal Challengers Bangalore</td>\n",
       "      <td>Delhi Capitals</td>\n",
       "      <td>Royal Challengers Bangalore</td>\n",
       "      <td>bat</td>\n",
       "      <td>normal</td>\n",
       "      <td>0</td>\n",
       "      <td>Royal Challengers Bangalore</td>\n",
       "      <td>15</td>\n",
       "      <td>0</td>\n",
       "      <td>KM Jadhav</td>\n",
       "      <td>M Chinnaswamy Stadium</td>\n",
       "      <td>NaN</td>\n",
       "      <td>NaN</td>\n",
       "      <td>NaN</td>\n",
       "    </tr>\n",
       "    <tr>\n",
       "      <th>11</th>\n",
       "      <td>12</td>\n",
       "      <td>2017</td>\n",
       "      <td>Bangalore</td>\n",
       "      <td>2017-04-14</td>\n",
       "      <td>Royal Challengers Bangalore</td>\n",
       "      <td>Mumbai Indians</td>\n",
       "      <td>Mumbai Indians</td>\n",
       "      <td>field</td>\n",
       "      <td>normal</td>\n",
       "      <td>0</td>\n",
       "      <td>Mumbai Indians</td>\n",
       "      <td>0</td>\n",
       "      <td>4</td>\n",
       "      <td>KA Pollard</td>\n",
       "      <td>M Chinnaswamy Stadium</td>\n",
       "      <td>KN Ananthapadmanabhan</td>\n",
       "      <td>AK Chaudhary</td>\n",
       "      <td>NaN</td>\n",
       "    </tr>\n",
       "    <tr>\n",
       "      <th>16</th>\n",
       "      <td>17</td>\n",
       "      <td>2017</td>\n",
       "      <td>Bangalore</td>\n",
       "      <td>2017-04-16</td>\n",
       "      <td>Rising Pune Supergiants</td>\n",
       "      <td>Royal Challengers Bangalore</td>\n",
       "      <td>Royal Challengers Bangalore</td>\n",
       "      <td>field</td>\n",
       "      <td>normal</td>\n",
       "      <td>0</td>\n",
       "      <td>Rising Pune Supergiants</td>\n",
       "      <td>27</td>\n",
       "      <td>0</td>\n",
       "      <td>BA Stokes</td>\n",
       "      <td>M Chinnaswamy Stadium</td>\n",
       "      <td>KN Ananthapadmanabhan</td>\n",
       "      <td>C Shamshuddin</td>\n",
       "      <td>NaN</td>\n",
       "    </tr>\n",
       "    <tr>\n",
       "      <th>29</th>\n",
       "      <td>30</td>\n",
       "      <td>2017</td>\n",
       "      <td>Bangalore</td>\n",
       "      <td>2017-04-27</td>\n",
       "      <td>Royal Challengers Bangalore</td>\n",
       "      <td>Gujarat Lions</td>\n",
       "      <td>Gujarat Lions</td>\n",
       "      <td>field</td>\n",
       "      <td>normal</td>\n",
       "      <td>0</td>\n",
       "      <td>Gujarat Lions</td>\n",
       "      <td>0</td>\n",
       "      <td>7</td>\n",
       "      <td>AJ Tye</td>\n",
       "      <td>M Chinnaswamy Stadium</td>\n",
       "      <td>AK Chaudhary</td>\n",
       "      <td>C Shamshuddin</td>\n",
       "      <td>NaN</td>\n",
       "    </tr>\n",
       "    <tr>\n",
       "      <th>41</th>\n",
       "      <td>42</td>\n",
       "      <td>2017</td>\n",
       "      <td>Bangalore</td>\n",
       "      <td>2017-05-05</td>\n",
       "      <td>Kings XI Punjab</td>\n",
       "      <td>Royal Challengers Bangalore</td>\n",
       "      <td>Royal Challengers Bangalore</td>\n",
       "      <td>field</td>\n",
       "      <td>normal</td>\n",
       "      <td>0</td>\n",
       "      <td>Kings XI Punjab</td>\n",
       "      <td>19</td>\n",
       "      <td>0</td>\n",
       "      <td>Sandeep Sharma</td>\n",
       "      <td>M Chinnaswamy Stadium</td>\n",
       "      <td>CB Gaffaney</td>\n",
       "      <td>C Shamshuddin</td>\n",
       "      <td>NaN</td>\n",
       "    </tr>\n",
       "    <tr>\n",
       "      <th>...</th>\n",
       "      <td>...</td>\n",
       "      <td>...</td>\n",
       "      <td>...</td>\n",
       "      <td>...</td>\n",
       "      <td>...</td>\n",
       "      <td>...</td>\n",
       "      <td>...</td>\n",
       "      <td>...</td>\n",
       "      <td>...</td>\n",
       "      <td>...</td>\n",
       "      <td>...</td>\n",
       "      <td>...</td>\n",
       "      <td>...</td>\n",
       "      <td>...</td>\n",
       "      <td>...</td>\n",
       "      <td>...</td>\n",
       "      <td>...</td>\n",
       "      <td>...</td>\n",
       "    </tr>\n",
       "    <tr>\n",
       "      <th>616</th>\n",
       "      <td>617</td>\n",
       "      <td>2016</td>\n",
       "      <td>Bangalore</td>\n",
       "      <td>2016-05-11</td>\n",
       "      <td>Royal Challengers Bangalore</td>\n",
       "      <td>Mumbai Indians</td>\n",
       "      <td>Mumbai Indians</td>\n",
       "      <td>field</td>\n",
       "      <td>normal</td>\n",
       "      <td>0</td>\n",
       "      <td>Mumbai Indians</td>\n",
       "      <td>0</td>\n",
       "      <td>6</td>\n",
       "      <td>KH Pandya</td>\n",
       "      <td>M Chinnaswamy Stadium</td>\n",
       "      <td>AY Dandekar</td>\n",
       "      <td>C Shamshuddin</td>\n",
       "      <td>NaN</td>\n",
       "    </tr>\n",
       "    <tr>\n",
       "      <th>619</th>\n",
       "      <td>620</td>\n",
       "      <td>2016</td>\n",
       "      <td>Bangalore</td>\n",
       "      <td>2016-05-14</td>\n",
       "      <td>Royal Challengers Bangalore</td>\n",
       "      <td>Gujarat Lions</td>\n",
       "      <td>Gujarat Lions</td>\n",
       "      <td>field</td>\n",
       "      <td>normal</td>\n",
       "      <td>0</td>\n",
       "      <td>Royal Challengers Bangalore</td>\n",
       "      <td>144</td>\n",
       "      <td>0</td>\n",
       "      <td>AB de Villiers</td>\n",
       "      <td>M Chinnaswamy Stadium</td>\n",
       "      <td>AY Dandekar</td>\n",
       "      <td>VK Sharma</td>\n",
       "      <td>NaN</td>\n",
       "    </tr>\n",
       "    <tr>\n",
       "      <th>625</th>\n",
       "      <td>626</td>\n",
       "      <td>2016</td>\n",
       "      <td>Bangalore</td>\n",
       "      <td>2016-05-18</td>\n",
       "      <td>Royal Challengers Bangalore</td>\n",
       "      <td>Kings XI Punjab</td>\n",
       "      <td>Kings XI Punjab</td>\n",
       "      <td>field</td>\n",
       "      <td>normal</td>\n",
       "      <td>1</td>\n",
       "      <td>Royal Challengers Bangalore</td>\n",
       "      <td>82</td>\n",
       "      <td>0</td>\n",
       "      <td>V Kohli</td>\n",
       "      <td>M Chinnaswamy Stadium</td>\n",
       "      <td>KN Ananthapadmanabhan</td>\n",
       "      <td>M Erasmus</td>\n",
       "      <td>NaN</td>\n",
       "    </tr>\n",
       "    <tr>\n",
       "      <th>632</th>\n",
       "      <td>633</td>\n",
       "      <td>2016</td>\n",
       "      <td>Bangalore</td>\n",
       "      <td>2016-05-24</td>\n",
       "      <td>Gujarat Lions</td>\n",
       "      <td>Royal Challengers Bangalore</td>\n",
       "      <td>Royal Challengers Bangalore</td>\n",
       "      <td>field</td>\n",
       "      <td>normal</td>\n",
       "      <td>0</td>\n",
       "      <td>Royal Challengers Bangalore</td>\n",
       "      <td>0</td>\n",
       "      <td>4</td>\n",
       "      <td>AB de Villiers</td>\n",
       "      <td>M Chinnaswamy Stadium</td>\n",
       "      <td>AK Chaudhary</td>\n",
       "      <td>HDPK Dharmasena</td>\n",
       "      <td>NaN</td>\n",
       "    </tr>\n",
       "    <tr>\n",
       "      <th>635</th>\n",
       "      <td>636</td>\n",
       "      <td>2016</td>\n",
       "      <td>Bangalore</td>\n",
       "      <td>2016-05-29</td>\n",
       "      <td>Sunrisers Hyderabad</td>\n",
       "      <td>Royal Challengers Bangalore</td>\n",
       "      <td>Sunrisers Hyderabad</td>\n",
       "      <td>bat</td>\n",
       "      <td>normal</td>\n",
       "      <td>0</td>\n",
       "      <td>Sunrisers Hyderabad</td>\n",
       "      <td>8</td>\n",
       "      <td>0</td>\n",
       "      <td>BCJ Cutting</td>\n",
       "      <td>M Chinnaswamy Stadium</td>\n",
       "      <td>HDPK Dharmasena</td>\n",
       "      <td>BNJ Oxenford</td>\n",
       "      <td>NaN</td>\n",
       "    </tr>\n",
       "  </tbody>\n",
       "</table>\n",
       "<p>62 rows × 18 columns</p>\n",
       "</div>"
      ],
      "text/plain": [
       "      id  season       city        date                        team1  \\\n",
       "4      5    2017  Bangalore  2017-04-08  Royal Challengers Bangalore   \n",
       "11    12    2017  Bangalore  2017-04-14  Royal Challengers Bangalore   \n",
       "16    17    2017  Bangalore  2017-04-16      Rising Pune Supergiants   \n",
       "29    30    2017  Bangalore  2017-04-27  Royal Challengers Bangalore   \n",
       "41    42    2017  Bangalore  2017-05-05              Kings XI Punjab   \n",
       "..   ...     ...        ...         ...                          ...   \n",
       "616  617    2016  Bangalore  2016-05-11  Royal Challengers Bangalore   \n",
       "619  620    2016  Bangalore  2016-05-14  Royal Challengers Bangalore   \n",
       "625  626    2016  Bangalore  2016-05-18  Royal Challengers Bangalore   \n",
       "632  633    2016  Bangalore  2016-05-24                Gujarat Lions   \n",
       "635  636    2016  Bangalore  2016-05-29          Sunrisers Hyderabad   \n",
       "\n",
       "                           team2                  toss_winner toss_decision  \\\n",
       "4                 Delhi Capitals  Royal Challengers Bangalore           bat   \n",
       "11                Mumbai Indians               Mumbai Indians         field   \n",
       "16   Royal Challengers Bangalore  Royal Challengers Bangalore         field   \n",
       "29                 Gujarat Lions                Gujarat Lions         field   \n",
       "41   Royal Challengers Bangalore  Royal Challengers Bangalore         field   \n",
       "..                           ...                          ...           ...   \n",
       "616               Mumbai Indians               Mumbai Indians         field   \n",
       "619                Gujarat Lions                Gujarat Lions         field   \n",
       "625              Kings XI Punjab              Kings XI Punjab         field   \n",
       "632  Royal Challengers Bangalore  Royal Challengers Bangalore         field   \n",
       "635  Royal Challengers Bangalore          Sunrisers Hyderabad           bat   \n",
       "\n",
       "     result  dl_applied                       winner  win_by_runs  \\\n",
       "4    normal           0  Royal Challengers Bangalore           15   \n",
       "11   normal           0               Mumbai Indians            0   \n",
       "16   normal           0      Rising Pune Supergiants           27   \n",
       "29   normal           0                Gujarat Lions            0   \n",
       "41   normal           0              Kings XI Punjab           19   \n",
       "..      ...         ...                          ...          ...   \n",
       "616  normal           0               Mumbai Indians            0   \n",
       "619  normal           0  Royal Challengers Bangalore          144   \n",
       "625  normal           1  Royal Challengers Bangalore           82   \n",
       "632  normal           0  Royal Challengers Bangalore            0   \n",
       "635  normal           0          Sunrisers Hyderabad            8   \n",
       "\n",
       "     win_by_wickets player_of_match                  venue  \\\n",
       "4                 0       KM Jadhav  M Chinnaswamy Stadium   \n",
       "11                4      KA Pollard  M Chinnaswamy Stadium   \n",
       "16                0       BA Stokes  M Chinnaswamy Stadium   \n",
       "29                7          AJ Tye  M Chinnaswamy Stadium   \n",
       "41                0  Sandeep Sharma  M Chinnaswamy Stadium   \n",
       "..              ...             ...                    ...   \n",
       "616               6       KH Pandya  M Chinnaswamy Stadium   \n",
       "619               0  AB de Villiers  M Chinnaswamy Stadium   \n",
       "625               0         V Kohli  M Chinnaswamy Stadium   \n",
       "632               4  AB de Villiers  M Chinnaswamy Stadium   \n",
       "635               0     BCJ Cutting  M Chinnaswamy Stadium   \n",
       "\n",
       "                   umpire1          umpire2  umpire3  \n",
       "4                      NaN              NaN      NaN  \n",
       "11   KN Ananthapadmanabhan     AK Chaudhary      NaN  \n",
       "16   KN Ananthapadmanabhan    C Shamshuddin      NaN  \n",
       "29            AK Chaudhary    C Shamshuddin      NaN  \n",
       "41             CB Gaffaney    C Shamshuddin      NaN  \n",
       "..                     ...              ...      ...  \n",
       "616            AY Dandekar    C Shamshuddin      NaN  \n",
       "619            AY Dandekar        VK Sharma      NaN  \n",
       "625  KN Ananthapadmanabhan        M Erasmus      NaN  \n",
       "632           AK Chaudhary  HDPK Dharmasena      NaN  \n",
       "635        HDPK Dharmasena     BNJ Oxenford      NaN  \n",
       "\n",
       "[62 rows x 18 columns]"
      ]
     },
     "execution_count": 286,
     "metadata": {},
     "output_type": "execute_result"
    }
   ],
   "source": [
    "mask=(((matches.team1==\"Royal Challengers Bangalore\")|(matches.team2==\"Royal Challengers Bangalore\"))&(matches.city==\"Bangalore\"))\n",
    "matches[mask]"
   ]
  },
  {
   "cell_type": "code",
   "execution_count": 287,
   "id": "5ebfda5c",
   "metadata": {},
   "outputs": [
    {
     "data": {
      "text/plain": [
       "array(['Hyderabad', 'Pune', 'Rajkot', 'Indore', 'Bangalore', 'Mumbai',\n",
       "       'Kolkata', 'Delhi', 'Chandigarh', 'Kanpur', 'Jaipur', 'Chennai',\n",
       "       'Cape Town', 'Port Elizabeth', 'Durban', 'Centurion',\n",
       "       'East London', 'Johannesburg', 'Kimberley', 'Bloemfontein',\n",
       "       'Ahmedabad', 'Cuttack', 'Nagpur', 'Dharamsala', 'Kochi',\n",
       "       'Visakhapatnam', 'Raipur', 'Ranchi', 'Abu Dhabi', 'Sharjah', nan],\n",
       "      dtype=object)"
      ]
     },
     "execution_count": 287,
     "metadata": {},
     "output_type": "execute_result"
    }
   ],
   "source": [
    "matches.city.unique()"
   ]
  },
  {
   "cell_type": "code",
   "execution_count": 288,
   "id": "0cd2593c",
   "metadata": {},
   "outputs": [
    {
     "data": {
      "text/plain": [
       "Mumbai            85\n",
       "Bangalore         66\n",
       "Kolkata           61\n",
       "Delhi             60\n",
       "Hyderabad         49\n",
       "Chennai           48\n",
       "Chandigarh        46\n",
       "Jaipur            33\n",
       "Pune              32\n",
       "Durban            15\n",
       "Ahmedabad         12\n",
       "Centurion         12\n",
       "Visakhapatnam     11\n",
       "Rajkot            10\n",
       "Dharamsala         9\n",
       "Johannesburg       8\n",
       "Cape Town          7\n",
       "Abu Dhabi          7\n",
       "Ranchi             7\n",
       "Port Elizabeth     7\n",
       "Cuttack            7\n",
       "Raipur             6\n",
       "Sharjah            6\n",
       "Kochi              5\n",
       "Indore             5\n",
       "Kanpur             4\n",
       "Nagpur             3\n",
       "Kimberley          3\n",
       "East London        3\n",
       "Bloemfontein       2\n",
       "Name: city, dtype: int64"
      ]
     },
     "execution_count": 288,
     "metadata": {},
     "output_type": "execute_result"
    }
   ],
   "source": [
    "matches.city.value_counts()"
   ]
  },
  {
   "cell_type": "markdown",
   "id": "d125539d",
   "metadata": {},
   "source": [
    "### Find the top teams who had most total win_by_margin margin of every season. "
   ]
  },
  {
   "cell_type": "code",
   "execution_count": 289,
   "id": "ed849870",
   "metadata": {
    "scrolled": true
   },
   "outputs": [
    {
     "data": {
      "text/html": [
       "<div>\n",
       "<style scoped>\n",
       "    .dataframe tbody tr th:only-of-type {\n",
       "        vertical-align: middle;\n",
       "    }\n",
       "\n",
       "    .dataframe tbody tr th {\n",
       "        vertical-align: top;\n",
       "    }\n",
       "\n",
       "    .dataframe thead th {\n",
       "        text-align: right;\n",
       "    }\n",
       "</style>\n",
       "<table border=\"1\" class=\"dataframe\">\n",
       "  <thead>\n",
       "    <tr style=\"text-align: right;\">\n",
       "      <th></th>\n",
       "      <th></th>\n",
       "      <th>id</th>\n",
       "      <th>city</th>\n",
       "      <th>date</th>\n",
       "      <th>team1</th>\n",
       "      <th>team2</th>\n",
       "      <th>toss_winner</th>\n",
       "      <th>toss_decision</th>\n",
       "      <th>result</th>\n",
       "      <th>dl_applied</th>\n",
       "      <th>win_by_runs</th>\n",
       "      <th>win_by_wickets</th>\n",
       "      <th>player_of_match</th>\n",
       "      <th>venue</th>\n",
       "      <th>umpire1</th>\n",
       "      <th>umpire2</th>\n",
       "      <th>umpire3</th>\n",
       "    </tr>\n",
       "    <tr>\n",
       "      <th>season</th>\n",
       "      <th>winner</th>\n",
       "      <th></th>\n",
       "      <th></th>\n",
       "      <th></th>\n",
       "      <th></th>\n",
       "      <th></th>\n",
       "      <th></th>\n",
       "      <th></th>\n",
       "      <th></th>\n",
       "      <th></th>\n",
       "      <th></th>\n",
       "      <th></th>\n",
       "      <th></th>\n",
       "      <th></th>\n",
       "      <th></th>\n",
       "      <th></th>\n",
       "      <th></th>\n",
       "    </tr>\n",
       "  </thead>\n",
       "  <tbody>\n",
       "    <tr>\n",
       "      <th rowspan=\"5\" valign=\"top\">2008</th>\n",
       "      <th>Chennai Super Kings</th>\n",
       "      <td>61</td>\n",
       "      <td>Chandigarh</td>\n",
       "      <td>2008-04-19</td>\n",
       "      <td>Chennai Super Kings</td>\n",
       "      <td>Kings XI Punjab</td>\n",
       "      <td>Chennai Super Kings</td>\n",
       "      <td>bat</td>\n",
       "      <td>normal</td>\n",
       "      <td>0</td>\n",
       "      <td>33</td>\n",
       "      <td>0</td>\n",
       "      <td>MEK Hussey</td>\n",
       "      <td>Punjab Cricket Association Stadium, Mohali</td>\n",
       "      <td>MR Benson</td>\n",
       "      <td>SL Shastri</td>\n",
       "      <td>NaN</td>\n",
       "    </tr>\n",
       "    <tr>\n",
       "      <th>Deccan Chargers</th>\n",
       "      <td>72</td>\n",
       "      <td>Mumbai</td>\n",
       "      <td>2008-04-27</td>\n",
       "      <td>Mumbai Indians</td>\n",
       "      <td>Deccan Chargers</td>\n",
       "      <td>Deccan Chargers</td>\n",
       "      <td>field</td>\n",
       "      <td>normal</td>\n",
       "      <td>0</td>\n",
       "      <td>0</td>\n",
       "      <td>10</td>\n",
       "      <td>AC Gilchrist</td>\n",
       "      <td>Dr DY Patil Sports Academy</td>\n",
       "      <td>Asad Rauf</td>\n",
       "      <td>SL Shastri</td>\n",
       "      <td>NaN</td>\n",
       "    </tr>\n",
       "    <tr>\n",
       "      <th>Delhi Capitals</th>\n",
       "      <td>62</td>\n",
       "      <td>Delhi</td>\n",
       "      <td>2008-04-19</td>\n",
       "      <td>Rajasthan Royals</td>\n",
       "      <td>Delhi Capitals</td>\n",
       "      <td>Rajasthan Royals</td>\n",
       "      <td>bat</td>\n",
       "      <td>normal</td>\n",
       "      <td>0</td>\n",
       "      <td>0</td>\n",
       "      <td>9</td>\n",
       "      <td>MF Maharoof</td>\n",
       "      <td>Feroz Shah Kotla</td>\n",
       "      <td>Aleem Dar</td>\n",
       "      <td>GA Pratapkumar</td>\n",
       "      <td>NaN</td>\n",
       "    </tr>\n",
       "    <tr>\n",
       "      <th>Kings XI Punjab</th>\n",
       "      <td>69</td>\n",
       "      <td>Chandigarh</td>\n",
       "      <td>2008-04-25</td>\n",
       "      <td>Kings XI Punjab</td>\n",
       "      <td>Mumbai Indians</td>\n",
       "      <td>Mumbai Indians</td>\n",
       "      <td>field</td>\n",
       "      <td>normal</td>\n",
       "      <td>0</td>\n",
       "      <td>66</td>\n",
       "      <td>0</td>\n",
       "      <td>KC Sangakkara</td>\n",
       "      <td>Punjab Cricket Association Stadium, Mohali</td>\n",
       "      <td>Aleem Dar</td>\n",
       "      <td>AM Saheba</td>\n",
       "      <td>NaN</td>\n",
       "    </tr>\n",
       "    <tr>\n",
       "      <th>Kolkata Knight Riders</th>\n",
       "      <td>60</td>\n",
       "      <td>Bangalore</td>\n",
       "      <td>2008-04-18</td>\n",
       "      <td>Kolkata Knight Riders</td>\n",
       "      <td>Royal Challengers Bangalore</td>\n",
       "      <td>Royal Challengers Bangalore</td>\n",
       "      <td>field</td>\n",
       "      <td>normal</td>\n",
       "      <td>0</td>\n",
       "      <td>140</td>\n",
       "      <td>0</td>\n",
       "      <td>BB McCullum</td>\n",
       "      <td>M Chinnaswamy Stadium</td>\n",
       "      <td>Asad Rauf</td>\n",
       "      <td>RE Koertzen</td>\n",
       "      <td>NaN</td>\n",
       "    </tr>\n",
       "    <tr>\n",
       "      <th>...</th>\n",
       "      <th>...</th>\n",
       "      <td>...</td>\n",
       "      <td>...</td>\n",
       "      <td>...</td>\n",
       "      <td>...</td>\n",
       "      <td>...</td>\n",
       "      <td>...</td>\n",
       "      <td>...</td>\n",
       "      <td>...</td>\n",
       "      <td>...</td>\n",
       "      <td>...</td>\n",
       "      <td>...</td>\n",
       "      <td>...</td>\n",
       "      <td>...</td>\n",
       "      <td>...</td>\n",
       "      <td>...</td>\n",
       "      <td>...</td>\n",
       "    </tr>\n",
       "    <tr>\n",
       "      <th rowspan=\"5\" valign=\"top\">2017</th>\n",
       "      <th>Kolkata Knight Riders</th>\n",
       "      <td>3</td>\n",
       "      <td>Rajkot</td>\n",
       "      <td>2017-04-07</td>\n",
       "      <td>Gujarat Lions</td>\n",
       "      <td>Kolkata Knight Riders</td>\n",
       "      <td>Kolkata Knight Riders</td>\n",
       "      <td>field</td>\n",
       "      <td>normal</td>\n",
       "      <td>0</td>\n",
       "      <td>0</td>\n",
       "      <td>10</td>\n",
       "      <td>CA Lynn</td>\n",
       "      <td>Saurashtra Cricket Association Stadium</td>\n",
       "      <td>Nitin Menon</td>\n",
       "      <td>CK Nandan</td>\n",
       "      <td>NaN</td>\n",
       "    </tr>\n",
       "    <tr>\n",
       "      <th>Mumbai Indians</th>\n",
       "      <td>7</td>\n",
       "      <td>Mumbai</td>\n",
       "      <td>2017-04-09</td>\n",
       "      <td>Kolkata Knight Riders</td>\n",
       "      <td>Mumbai Indians</td>\n",
       "      <td>Mumbai Indians</td>\n",
       "      <td>field</td>\n",
       "      <td>normal</td>\n",
       "      <td>0</td>\n",
       "      <td>0</td>\n",
       "      <td>4</td>\n",
       "      <td>N Rana</td>\n",
       "      <td>Wankhede Stadium</td>\n",
       "      <td>Nitin Menon</td>\n",
       "      <td>CK Nandan</td>\n",
       "      <td>NaN</td>\n",
       "    </tr>\n",
       "    <tr>\n",
       "      <th>Rising Pune Supergiants</th>\n",
       "      <td>2</td>\n",
       "      <td>Pune</td>\n",
       "      <td>2017-04-06</td>\n",
       "      <td>Mumbai Indians</td>\n",
       "      <td>Rising Pune Supergiants</td>\n",
       "      <td>Rising Pune Supergiants</td>\n",
       "      <td>field</td>\n",
       "      <td>normal</td>\n",
       "      <td>0</td>\n",
       "      <td>0</td>\n",
       "      <td>7</td>\n",
       "      <td>SPD Smith</td>\n",
       "      <td>Maharashtra Cricket Association Stadium</td>\n",
       "      <td>A Nand Kishore</td>\n",
       "      <td>S Ravi</td>\n",
       "      <td>NaN</td>\n",
       "    </tr>\n",
       "    <tr>\n",
       "      <th>Royal Challengers Bangalore</th>\n",
       "      <td>5</td>\n",
       "      <td>Bangalore</td>\n",
       "      <td>2017-04-08</td>\n",
       "      <td>Royal Challengers Bangalore</td>\n",
       "      <td>Delhi Capitals</td>\n",
       "      <td>Royal Challengers Bangalore</td>\n",
       "      <td>bat</td>\n",
       "      <td>normal</td>\n",
       "      <td>0</td>\n",
       "      <td>15</td>\n",
       "      <td>0</td>\n",
       "      <td>KM Jadhav</td>\n",
       "      <td>M Chinnaswamy Stadium</td>\n",
       "      <td>S Ravi</td>\n",
       "      <td>VK Sharma</td>\n",
       "      <td>NaN</td>\n",
       "    </tr>\n",
       "    <tr>\n",
       "      <th>Sunrisers Hyderabad</th>\n",
       "      <td>1</td>\n",
       "      <td>Hyderabad</td>\n",
       "      <td>2017-04-05</td>\n",
       "      <td>Sunrisers Hyderabad</td>\n",
       "      <td>Royal Challengers Bangalore</td>\n",
       "      <td>Royal Challengers Bangalore</td>\n",
       "      <td>field</td>\n",
       "      <td>normal</td>\n",
       "      <td>0</td>\n",
       "      <td>35</td>\n",
       "      <td>0</td>\n",
       "      <td>Yuvraj Singh</td>\n",
       "      <td>Rajiv Gandhi International Stadium, Uppal</td>\n",
       "      <td>AY Dandekar</td>\n",
       "      <td>NJ Llong</td>\n",
       "      <td>NaN</td>\n",
       "    </tr>\n",
       "  </tbody>\n",
       "</table>\n",
       "<p>84 rows × 16 columns</p>\n",
       "</div>"
      ],
      "text/plain": [
       "                                    id        city        date  \\\n",
       "season winner                                                    \n",
       "2008   Chennai Super Kings          61  Chandigarh  2008-04-19   \n",
       "       Deccan Chargers              72      Mumbai  2008-04-27   \n",
       "       Delhi Capitals               62       Delhi  2008-04-19   \n",
       "       Kings XI Punjab              69  Chandigarh  2008-04-25   \n",
       "       Kolkata Knight Riders        60   Bangalore  2008-04-18   \n",
       "...                                 ..         ...         ...   \n",
       "2017   Kolkata Knight Riders         3      Rajkot  2017-04-07   \n",
       "       Mumbai Indians                7      Mumbai  2017-04-09   \n",
       "       Rising Pune Supergiants       2        Pune  2017-04-06   \n",
       "       Royal Challengers Bangalore   5   Bangalore  2017-04-08   \n",
       "       Sunrisers Hyderabad           1   Hyderabad  2017-04-05   \n",
       "\n",
       "                                                          team1  \\\n",
       "season winner                                                     \n",
       "2008   Chennai Super Kings                  Chennai Super Kings   \n",
       "       Deccan Chargers                           Mumbai Indians   \n",
       "       Delhi Capitals                          Rajasthan Royals   \n",
       "       Kings XI Punjab                          Kings XI Punjab   \n",
       "       Kolkata Knight Riders              Kolkata Knight Riders   \n",
       "...                                                         ...   \n",
       "2017   Kolkata Knight Riders                      Gujarat Lions   \n",
       "       Mumbai Indians                     Kolkata Knight Riders   \n",
       "       Rising Pune Supergiants                   Mumbai Indians   \n",
       "       Royal Challengers Bangalore  Royal Challengers Bangalore   \n",
       "       Sunrisers Hyderabad                  Sunrisers Hyderabad   \n",
       "\n",
       "                                                          team2  \\\n",
       "season winner                                                     \n",
       "2008   Chennai Super Kings                      Kings XI Punjab   \n",
       "       Deccan Chargers                          Deccan Chargers   \n",
       "       Delhi Capitals                            Delhi Capitals   \n",
       "       Kings XI Punjab                           Mumbai Indians   \n",
       "       Kolkata Knight Riders        Royal Challengers Bangalore   \n",
       "...                                                         ...   \n",
       "2017   Kolkata Knight Riders              Kolkata Knight Riders   \n",
       "       Mumbai Indians                            Mumbai Indians   \n",
       "       Rising Pune Supergiants          Rising Pune Supergiants   \n",
       "       Royal Challengers Bangalore               Delhi Capitals   \n",
       "       Sunrisers Hyderabad          Royal Challengers Bangalore   \n",
       "\n",
       "                                                    toss_winner toss_decision  \\\n",
       "season winner                                                                   \n",
       "2008   Chennai Super Kings                  Chennai Super Kings           bat   \n",
       "       Deccan Chargers                          Deccan Chargers         field   \n",
       "       Delhi Capitals                          Rajasthan Royals           bat   \n",
       "       Kings XI Punjab                           Mumbai Indians         field   \n",
       "       Kolkata Knight Riders        Royal Challengers Bangalore         field   \n",
       "...                                                         ...           ...   \n",
       "2017   Kolkata Knight Riders              Kolkata Knight Riders         field   \n",
       "       Mumbai Indians                            Mumbai Indians         field   \n",
       "       Rising Pune Supergiants          Rising Pune Supergiants         field   \n",
       "       Royal Challengers Bangalore  Royal Challengers Bangalore           bat   \n",
       "       Sunrisers Hyderabad          Royal Challengers Bangalore         field   \n",
       "\n",
       "                                    result  dl_applied  win_by_runs  \\\n",
       "season winner                                                         \n",
       "2008   Chennai Super Kings          normal           0           33   \n",
       "       Deccan Chargers              normal           0            0   \n",
       "       Delhi Capitals               normal           0            0   \n",
       "       Kings XI Punjab              normal           0           66   \n",
       "       Kolkata Knight Riders        normal           0          140   \n",
       "...                                    ...         ...          ...   \n",
       "2017   Kolkata Knight Riders        normal           0            0   \n",
       "       Mumbai Indians               normal           0            0   \n",
       "       Rising Pune Supergiants      normal           0            0   \n",
       "       Royal Challengers Bangalore  normal           0           15   \n",
       "       Sunrisers Hyderabad          normal           0           35   \n",
       "\n",
       "                                    win_by_wickets player_of_match  \\\n",
       "season winner                                                        \n",
       "2008   Chennai Super Kings                       0      MEK Hussey   \n",
       "       Deccan Chargers                          10    AC Gilchrist   \n",
       "       Delhi Capitals                            9     MF Maharoof   \n",
       "       Kings XI Punjab                           0   KC Sangakkara   \n",
       "       Kolkata Knight Riders                     0     BB McCullum   \n",
       "...                                            ...             ...   \n",
       "2017   Kolkata Knight Riders                    10         CA Lynn   \n",
       "       Mumbai Indians                            4          N Rana   \n",
       "       Rising Pune Supergiants                   7       SPD Smith   \n",
       "       Royal Challengers Bangalore               0       KM Jadhav   \n",
       "       Sunrisers Hyderabad                       0    Yuvraj Singh   \n",
       "\n",
       "                                                                         venue  \\\n",
       "season winner                                                                    \n",
       "2008   Chennai Super Kings          Punjab Cricket Association Stadium, Mohali   \n",
       "       Deccan Chargers                              Dr DY Patil Sports Academy   \n",
       "       Delhi Capitals                                         Feroz Shah Kotla   \n",
       "       Kings XI Punjab              Punjab Cricket Association Stadium, Mohali   \n",
       "       Kolkata Knight Riders                             M Chinnaswamy Stadium   \n",
       "...                                                                        ...   \n",
       "2017   Kolkata Knight Riders            Saurashtra Cricket Association Stadium   \n",
       "       Mumbai Indians                                         Wankhede Stadium   \n",
       "       Rising Pune Supergiants         Maharashtra Cricket Association Stadium   \n",
       "       Royal Challengers Bangalore                       M Chinnaswamy Stadium   \n",
       "       Sunrisers Hyderabad           Rajiv Gandhi International Stadium, Uppal   \n",
       "\n",
       "                                           umpire1         umpire2  umpire3  \n",
       "season winner                                                                \n",
       "2008   Chennai Super Kings               MR Benson      SL Shastri      NaN  \n",
       "       Deccan Chargers                   Asad Rauf      SL Shastri      NaN  \n",
       "       Delhi Capitals                    Aleem Dar  GA Pratapkumar      NaN  \n",
       "       Kings XI Punjab                   Aleem Dar       AM Saheba      NaN  \n",
       "       Kolkata Knight Riders             Asad Rauf     RE Koertzen      NaN  \n",
       "...                                            ...             ...      ...  \n",
       "2017   Kolkata Knight Riders           Nitin Menon       CK Nandan      NaN  \n",
       "       Mumbai Indians                  Nitin Menon       CK Nandan      NaN  \n",
       "       Rising Pune Supergiants      A Nand Kishore          S Ravi      NaN  \n",
       "       Royal Challengers Bangalore          S Ravi       VK Sharma      NaN  \n",
       "       Sunrisers Hyderabad             AY Dandekar        NJ Llong      NaN  \n",
       "\n",
       "[84 rows x 16 columns]"
      ]
     },
     "execution_count": 289,
     "metadata": {},
     "output_type": "execute_result"
    }
   ],
   "source": [
    "seasons_df=matches.groupby(['season','winner'])\n",
    "seasons_df.first()"
   ]
  },
  {
   "cell_type": "code",
   "execution_count": 290,
   "id": "942b9161",
   "metadata": {
    "scrolled": false
   },
   "outputs": [
    {
     "data": {
      "text/html": [
       "<div>\n",
       "<style scoped>\n",
       "    .dataframe tbody tr th:only-of-type {\n",
       "        vertical-align: middle;\n",
       "    }\n",
       "\n",
       "    .dataframe tbody tr th {\n",
       "        vertical-align: top;\n",
       "    }\n",
       "\n",
       "    .dataframe thead th {\n",
       "        text-align: right;\n",
       "    }\n",
       "</style>\n",
       "<table border=\"1\" class=\"dataframe\">\n",
       "  <thead>\n",
       "    <tr style=\"text-align: right;\">\n",
       "      <th></th>\n",
       "      <th>winner</th>\n",
       "      <th>win_by_runs</th>\n",
       "    </tr>\n",
       "    <tr>\n",
       "      <th>season</th>\n",
       "      <th></th>\n",
       "      <th></th>\n",
       "    </tr>\n",
       "  </thead>\n",
       "  <tbody>\n",
       "    <tr>\n",
       "      <th>2008</th>\n",
       "      <td>Rajasthan Royals</td>\n",
       "      <td>225</td>\n",
       "    </tr>\n",
       "    <tr>\n",
       "      <th>2009</th>\n",
       "      <td>Chennai Super Kings</td>\n",
       "      <td>262</td>\n",
       "    </tr>\n",
       "    <tr>\n",
       "      <th>2010</th>\n",
       "      <td>Mumbai Indians</td>\n",
       "      <td>374</td>\n",
       "    </tr>\n",
       "    <tr>\n",
       "      <th>2011</th>\n",
       "      <td>Kings XI Punjab</td>\n",
       "      <td>264</td>\n",
       "    </tr>\n",
       "    <tr>\n",
       "      <th>2012</th>\n",
       "      <td>Chennai Super Kings</td>\n",
       "      <td>221</td>\n",
       "    </tr>\n",
       "    <tr>\n",
       "      <th>2013</th>\n",
       "      <td>Mumbai Indians</td>\n",
       "      <td>318</td>\n",
       "    </tr>\n",
       "    <tr>\n",
       "      <th>2014</th>\n",
       "      <td>Kings XI Punjab</td>\n",
       "      <td>211</td>\n",
       "    </tr>\n",
       "    <tr>\n",
       "      <th>2015</th>\n",
       "      <td>Royal Challengers Bangalore</td>\n",
       "      <td>248</td>\n",
       "    </tr>\n",
       "    <tr>\n",
       "      <th>2016</th>\n",
       "      <td>Royal Challengers Bangalore</td>\n",
       "      <td>285</td>\n",
       "    </tr>\n",
       "    <tr>\n",
       "      <th>2017</th>\n",
       "      <td>Mumbai Indians</td>\n",
       "      <td>170</td>\n",
       "    </tr>\n",
       "  </tbody>\n",
       "</table>\n",
       "</div>"
      ],
      "text/plain": [
       "                             winner  win_by_runs\n",
       "season                                          \n",
       "2008               Rajasthan Royals          225\n",
       "2009            Chennai Super Kings          262\n",
       "2010                 Mumbai Indians          374\n",
       "2011                Kings XI Punjab          264\n",
       "2012            Chennai Super Kings          221\n",
       "2013                 Mumbai Indians          318\n",
       "2014                Kings XI Punjab          211\n",
       "2015    Royal Challengers Bangalore          248\n",
       "2016    Royal Challengers Bangalore          285\n",
       "2017                 Mumbai Indians          170"
      ]
     },
     "execution_count": 290,
     "metadata": {},
     "output_type": "execute_result"
    }
   ],
   "source": [
    "seasons_df.win_by_runs.sum().sort_values(ascending=False).reset_index().groupby('season').first()"
   ]
  },
  {
   "cell_type": "markdown",
   "id": "6b7bed41",
   "metadata": {},
   "source": [
    "### What are the most common ways of dismissal per each team?"
   ]
  },
  {
   "cell_type": "code",
   "execution_count": 291,
   "id": "9b514f92",
   "metadata": {},
   "outputs": [
    {
     "data": {
      "text/plain": [
       "(193468, 18)"
      ]
     },
     "execution_count": 291,
     "metadata": {},
     "output_type": "execute_result"
    }
   ],
   "source": [
    "deliveries= pd.read_csv(\"deliveries.csv\")\n",
    "deliveries.shape"
   ]
  },
  {
   "cell_type": "code",
   "execution_count": 292,
   "id": "54baa44c",
   "metadata": {},
   "outputs": [
    {
     "name": "stdout",
     "output_type": "stream",
     "text": [
      "<class 'pandas.core.frame.DataFrame'>\n",
      "RangeIndex: 193468 entries, 0 to 193467\n",
      "Data columns (total 18 columns):\n",
      " #   Column            Non-Null Count   Dtype \n",
      "---  ------            --------------   ----- \n",
      " 0   id                193468 non-null  int64 \n",
      " 1   inning            193468 non-null  int64 \n",
      " 2   over              193468 non-null  int64 \n",
      " 3   ball              193468 non-null  int64 \n",
      " 4   batsman           193468 non-null  object\n",
      " 5   non_striker       193468 non-null  object\n",
      " 6   bowler            193468 non-null  object\n",
      " 7   batsman_runs      193468 non-null  int64 \n",
      " 8   extra_runs        193468 non-null  int64 \n",
      " 9   total_runs        193468 non-null  int64 \n",
      " 10  non_boundary      193468 non-null  int64 \n",
      " 11  is_wicket         193468 non-null  int64 \n",
      " 12  dismissal_kind    9495 non-null    object\n",
      " 13  player_dismissed  9495 non-null    object\n",
      " 14  fielder           6784 non-null    object\n",
      " 15  extras_type       10233 non-null   object\n",
      " 16  batting_team      193468 non-null  object\n",
      " 17  bowling_team      193277 non-null  object\n",
      "dtypes: int64(9), object(9)\n",
      "memory usage: 26.6+ MB\n"
     ]
    }
   ],
   "source": [
    "deliveries.info()"
   ]
  },
  {
   "cell_type": "code",
   "execution_count": 293,
   "id": "3d93652f",
   "metadata": {},
   "outputs": [
    {
     "data": {
      "text/plain": [
       "array(['Kolkata Knight Riders', 'Royal Challengers Bangalore',\n",
       "       'Kings XI Punjab', 'Chennai Super Kings', 'Rajasthan Royals',\n",
       "       'Delhi Daredevils', 'Mumbai Indians', 'Deccan Chargers',\n",
       "       'Kochi Tuskers Kerala', 'Pune Warriors', 'Sunrisers Hyderabad',\n",
       "       'Rising Pune Supergiants', 'Gujarat Lions',\n",
       "       'Rising Pune Supergiant', 'Delhi Capitals'], dtype=object)"
      ]
     },
     "execution_count": 293,
     "metadata": {},
     "output_type": "execute_result"
    }
   ],
   "source": [
    "deliveries.batting_team.unique()"
   ]
  },
  {
   "cell_type": "code",
   "execution_count": 294,
   "id": "3d235290",
   "metadata": {},
   "outputs": [],
   "source": [
    "deliveries.replace({'Rising Pune Supergiant':'Rising Pune Supergiants','Delhi Daredevils':'Delhi Capitals'},inplace=True)"
   ]
  },
  {
   "cell_type": "code",
   "execution_count": 295,
   "id": "8a63b4f4",
   "metadata": {},
   "outputs": [
    {
     "data": {
      "text/html": [
       "<div>\n",
       "<style scoped>\n",
       "    .dataframe tbody tr th:only-of-type {\n",
       "        vertical-align: middle;\n",
       "    }\n",
       "\n",
       "    .dataframe tbody tr th {\n",
       "        vertical-align: top;\n",
       "    }\n",
       "\n",
       "    .dataframe thead th {\n",
       "        text-align: right;\n",
       "    }\n",
       "</style>\n",
       "<table border=\"1\" class=\"dataframe\">\n",
       "  <thead>\n",
       "    <tr style=\"text-align: right;\">\n",
       "      <th></th>\n",
       "      <th>id</th>\n",
       "      <th>inning</th>\n",
       "      <th>over</th>\n",
       "      <th>ball</th>\n",
       "      <th>batsman</th>\n",
       "      <th>non_striker</th>\n",
       "      <th>bowler</th>\n",
       "      <th>batsman_runs</th>\n",
       "      <th>extra_runs</th>\n",
       "      <th>total_runs</th>\n",
       "      <th>non_boundary</th>\n",
       "      <th>is_wicket</th>\n",
       "      <th>dismissal_kind</th>\n",
       "      <th>player_dismissed</th>\n",
       "      <th>fielder</th>\n",
       "      <th>extras_type</th>\n",
       "      <th>batting_team</th>\n",
       "      <th>bowling_team</th>\n",
       "    </tr>\n",
       "  </thead>\n",
       "  <tbody>\n",
       "    <tr>\n",
       "      <th>70058</th>\n",
       "      <td>548355</td>\n",
       "      <td>2</td>\n",
       "      <td>9</td>\n",
       "      <td>2</td>\n",
       "      <td>RG Sharma</td>\n",
       "      <td>SR Tendulkar</td>\n",
       "      <td>SB Jakati</td>\n",
       "      <td>1</td>\n",
       "      <td>0</td>\n",
       "      <td>1</td>\n",
       "      <td>0</td>\n",
       "      <td>0</td>\n",
       "      <td>NaN</td>\n",
       "      <td>NaN</td>\n",
       "      <td>NaN</td>\n",
       "      <td>NaN</td>\n",
       "      <td>Mumbai Indians</td>\n",
       "      <td>Chennai Super Kings</td>\n",
       "    </tr>\n",
       "  </tbody>\n",
       "</table>\n",
       "</div>"
      ],
      "text/plain": [
       "           id  inning  over  ball    batsman   non_striker     bowler  \\\n",
       "70058  548355       2     9     2  RG Sharma  SR Tendulkar  SB Jakati   \n",
       "\n",
       "       batsman_runs  extra_runs  total_runs  non_boundary  is_wicket  \\\n",
       "70058             1           0           1             0          0   \n",
       "\n",
       "      dismissal_kind player_dismissed fielder extras_type    batting_team  \\\n",
       "70058            NaN              NaN     NaN         NaN  Mumbai Indians   \n",
       "\n",
       "              bowling_team  \n",
       "70058  Chennai Super Kings  "
      ]
     },
     "execution_count": 295,
     "metadata": {},
     "output_type": "execute_result"
    }
   ],
   "source": [
    "deliveries.sample()"
   ]
  },
  {
   "cell_type": "code",
   "execution_count": 296,
   "id": "171fb93e",
   "metadata": {},
   "outputs": [
    {
     "data": {
      "text/plain": [
       "Index(['id', 'inning', 'over', 'ball', 'batsman', 'non_striker', 'bowler',\n",
       "       'batsman_runs', 'extra_runs', 'total_runs', 'non_boundary', 'is_wicket',\n",
       "       'dismissal_kind', 'player_dismissed', 'fielder', 'extras_type',\n",
       "       'batting_team', 'bowling_team'],\n",
       "      dtype='object')"
      ]
     },
     "execution_count": 296,
     "metadata": {},
     "output_type": "execute_result"
    }
   ],
   "source": [
    "deliveries.columns"
   ]
  },
  {
   "cell_type": "code",
   "execution_count": 297,
   "id": "f2c0cc74",
   "metadata": {},
   "outputs": [],
   "source": [
    "team= deliveries[deliveries.is_wicket==1]"
   ]
  },
  {
   "cell_type": "code",
   "execution_count": 298,
   "id": "0af2bedc",
   "metadata": {},
   "outputs": [
    {
     "data": {
      "text/html": [
       "<div>\n",
       "<style scoped>\n",
       "    .dataframe tbody tr th:only-of-type {\n",
       "        vertical-align: middle;\n",
       "    }\n",
       "\n",
       "    .dataframe tbody tr th {\n",
       "        vertical-align: top;\n",
       "    }\n",
       "\n",
       "    .dataframe thead th {\n",
       "        text-align: right;\n",
       "    }\n",
       "</style>\n",
       "<table border=\"1\" class=\"dataframe\">\n",
       "  <thead>\n",
       "    <tr style=\"text-align: right;\">\n",
       "      <th></th>\n",
       "      <th>batting_team</th>\n",
       "      <th>dismissal_kind</th>\n",
       "      <th>is_wicket</th>\n",
       "    </tr>\n",
       "  </thead>\n",
       "  <tbody>\n",
       "    <tr>\n",
       "      <th>0</th>\n",
       "      <td>Chennai Super Kings</td>\n",
       "      <td>bowled</td>\n",
       "      <td>143</td>\n",
       "    </tr>\n",
       "    <tr>\n",
       "      <th>1</th>\n",
       "      <td>Chennai Super Kings</td>\n",
       "      <td>caught</td>\n",
       "      <td>565</td>\n",
       "    </tr>\n",
       "    <tr>\n",
       "      <th>2</th>\n",
       "      <td>Chennai Super Kings</td>\n",
       "      <td>caught and bowled</td>\n",
       "      <td>30</td>\n",
       "    </tr>\n",
       "    <tr>\n",
       "      <th>3</th>\n",
       "      <td>Chennai Super Kings</td>\n",
       "      <td>hit wicket</td>\n",
       "      <td>1</td>\n",
       "    </tr>\n",
       "    <tr>\n",
       "      <th>4</th>\n",
       "      <td>Chennai Super Kings</td>\n",
       "      <td>lbw</td>\n",
       "      <td>56</td>\n",
       "    </tr>\n",
       "    <tr>\n",
       "      <th>...</th>\n",
       "      <td>...</td>\n",
       "      <td>...</td>\n",
       "      <td>...</td>\n",
       "    </tr>\n",
       "    <tr>\n",
       "      <th>86</th>\n",
       "      <td>Sunrisers Hyderabad</td>\n",
       "      <td>hit wicket</td>\n",
       "      <td>4</td>\n",
       "    </tr>\n",
       "    <tr>\n",
       "      <th>87</th>\n",
       "      <td>Sunrisers Hyderabad</td>\n",
       "      <td>lbw</td>\n",
       "      <td>29</td>\n",
       "    </tr>\n",
       "    <tr>\n",
       "      <th>88</th>\n",
       "      <td>Sunrisers Hyderabad</td>\n",
       "      <td>retired hurt</td>\n",
       "      <td>1</td>\n",
       "    </tr>\n",
       "    <tr>\n",
       "      <th>89</th>\n",
       "      <td>Sunrisers Hyderabad</td>\n",
       "      <td>run out</td>\n",
       "      <td>64</td>\n",
       "    </tr>\n",
       "    <tr>\n",
       "      <th>90</th>\n",
       "      <td>Sunrisers Hyderabad</td>\n",
       "      <td>stumped</td>\n",
       "      <td>18</td>\n",
       "    </tr>\n",
       "  </tbody>\n",
       "</table>\n",
       "<p>91 rows × 3 columns</p>\n",
       "</div>"
      ],
      "text/plain": [
       "           batting_team     dismissal_kind  is_wicket\n",
       "0   Chennai Super Kings             bowled        143\n",
       "1   Chennai Super Kings             caught        565\n",
       "2   Chennai Super Kings  caught and bowled         30\n",
       "3   Chennai Super Kings         hit wicket          1\n",
       "4   Chennai Super Kings                lbw         56\n",
       "..                  ...                ...        ...\n",
       "86  Sunrisers Hyderabad         hit wicket          4\n",
       "87  Sunrisers Hyderabad                lbw         29\n",
       "88  Sunrisers Hyderabad       retired hurt          1\n",
       "89  Sunrisers Hyderabad            run out         64\n",
       "90  Sunrisers Hyderabad            stumped         18\n",
       "\n",
       "[91 rows x 3 columns]"
      ]
     },
     "execution_count": 298,
     "metadata": {},
     "output_type": "execute_result"
    }
   ],
   "source": [
    "dissmisal_data=team.groupby(['batting_team','dismissal_kind'])['is_wicket'].count().reset_index()\n",
    "dissmisal_data"
   ]
  },
  {
   "cell_type": "code",
   "execution_count": 299,
   "id": "c6a825a6",
   "metadata": {},
   "outputs": [
    {
     "data": {
      "text/html": [
       "<div>\n",
       "<style scoped>\n",
       "    .dataframe tbody tr th:only-of-type {\n",
       "        vertical-align: middle;\n",
       "    }\n",
       "\n",
       "    .dataframe tbody tr th {\n",
       "        vertical-align: top;\n",
       "    }\n",
       "\n",
       "    .dataframe thead th {\n",
       "        text-align: right;\n",
       "    }\n",
       "</style>\n",
       "<table border=\"1\" class=\"dataframe\">\n",
       "  <thead>\n",
       "    <tr style=\"text-align: right;\">\n",
       "      <th></th>\n",
       "      <th>batting_team</th>\n",
       "      <th>dismissal_kind</th>\n",
       "      <th>Numbers</th>\n",
       "    </tr>\n",
       "  </thead>\n",
       "  <tbody>\n",
       "    <tr>\n",
       "      <th>0</th>\n",
       "      <td>Chennai Super Kings</td>\n",
       "      <td>bowled</td>\n",
       "      <td>143</td>\n",
       "    </tr>\n",
       "    <tr>\n",
       "      <th>1</th>\n",
       "      <td>Chennai Super Kings</td>\n",
       "      <td>caught</td>\n",
       "      <td>565</td>\n",
       "    </tr>\n",
       "    <tr>\n",
       "      <th>2</th>\n",
       "      <td>Chennai Super Kings</td>\n",
       "      <td>caught and bowled</td>\n",
       "      <td>30</td>\n",
       "    </tr>\n",
       "    <tr>\n",
       "      <th>3</th>\n",
       "      <td>Chennai Super Kings</td>\n",
       "      <td>hit wicket</td>\n",
       "      <td>1</td>\n",
       "    </tr>\n",
       "    <tr>\n",
       "      <th>4</th>\n",
       "      <td>Chennai Super Kings</td>\n",
       "      <td>lbw</td>\n",
       "      <td>56</td>\n",
       "    </tr>\n",
       "    <tr>\n",
       "      <th>...</th>\n",
       "      <td>...</td>\n",
       "      <td>...</td>\n",
       "      <td>...</td>\n",
       "    </tr>\n",
       "    <tr>\n",
       "      <th>86</th>\n",
       "      <td>Sunrisers Hyderabad</td>\n",
       "      <td>hit wicket</td>\n",
       "      <td>4</td>\n",
       "    </tr>\n",
       "    <tr>\n",
       "      <th>87</th>\n",
       "      <td>Sunrisers Hyderabad</td>\n",
       "      <td>lbw</td>\n",
       "      <td>29</td>\n",
       "    </tr>\n",
       "    <tr>\n",
       "      <th>88</th>\n",
       "      <td>Sunrisers Hyderabad</td>\n",
       "      <td>retired hurt</td>\n",
       "      <td>1</td>\n",
       "    </tr>\n",
       "    <tr>\n",
       "      <th>89</th>\n",
       "      <td>Sunrisers Hyderabad</td>\n",
       "      <td>run out</td>\n",
       "      <td>64</td>\n",
       "    </tr>\n",
       "    <tr>\n",
       "      <th>90</th>\n",
       "      <td>Sunrisers Hyderabad</td>\n",
       "      <td>stumped</td>\n",
       "      <td>18</td>\n",
       "    </tr>\n",
       "  </tbody>\n",
       "</table>\n",
       "<p>91 rows × 3 columns</p>\n",
       "</div>"
      ],
      "text/plain": [
       "           batting_team     dismissal_kind  Numbers\n",
       "0   Chennai Super Kings             bowled      143\n",
       "1   Chennai Super Kings             caught      565\n",
       "2   Chennai Super Kings  caught and bowled       30\n",
       "3   Chennai Super Kings         hit wicket        1\n",
       "4   Chennai Super Kings                lbw       56\n",
       "..                  ...                ...      ...\n",
       "86  Sunrisers Hyderabad         hit wicket        4\n",
       "87  Sunrisers Hyderabad                lbw       29\n",
       "88  Sunrisers Hyderabad       retired hurt        1\n",
       "89  Sunrisers Hyderabad            run out       64\n",
       "90  Sunrisers Hyderabad            stumped       18\n",
       "\n",
       "[91 rows x 3 columns]"
      ]
     },
     "execution_count": 299,
     "metadata": {},
     "output_type": "execute_result"
    }
   ],
   "source": [
    "dissmisal_data.rename(columns= {\"is_wicket\":\"Numbers\"},inplace=True)\n",
    "dissmisal_data.sort_values([\"batting_team\",\"dismissal_kind\"],inplace=True)\n",
    "dissmisal_data"
   ]
  },
  {
   "cell_type": "code",
   "execution_count": 300,
   "id": "da85cad9",
   "metadata": {},
   "outputs": [
    {
     "data": {
      "text/plain": [
       "13"
      ]
     },
     "execution_count": 300,
     "metadata": {},
     "output_type": "execute_result"
    }
   ],
   "source": [
    "team_names=dissmisal_data.batting_team.unique().tolist()\n",
    "len(team_names)"
   ]
  },
  {
   "cell_type": "code",
   "execution_count": 301,
   "id": "303413a6",
   "metadata": {},
   "outputs": [],
   "source": [
    "dissmisal_data=dissmisal_data[(dissmisal_data.dismissal_kind!='obstructing the field')&(dissmisal_data.dismissal_kind!='retired hurt')&(dissmisal_data.dismissal_kind!='hit wicket')]"
   ]
  },
  {
   "cell_type": "code",
   "execution_count": 302,
   "id": "525f1348",
   "metadata": {},
   "outputs": [
    {
     "data": {
      "text/plain": [
       "['bowled', 'caught', 'caught and bowled', 'lbw', 'run out', 'stumped']"
      ]
     },
     "execution_count": 302,
     "metadata": {},
     "output_type": "execute_result"
    }
   ],
   "source": [
    "dismissal_types= dissmisal_data.dismissal_kind.unique().tolist()\n",
    "dismissal_types"
   ]
  },
  {
   "cell_type": "code",
   "execution_count": 303,
   "id": "bc8acd78",
   "metadata": {},
   "outputs": [],
   "source": [
    "def get_kind(kind):\n",
    "    return dissmisal_data[dissmisal_data.dismissal_kind==kind]['Numbers'].tolist()"
   ]
  },
  {
   "cell_type": "code",
   "execution_count": 304,
   "id": "7f5fe21f",
   "metadata": {},
   "outputs": [
    {
     "data": {
      "text/plain": [
       "[143, 91, 205, 41, 206, 20, 185, 190, 65, 179, 29, 226, 120]"
      ]
     },
     "execution_count": 304,
     "metadata": {},
     "output_type": "execute_result"
    }
   ],
   "source": [
    "get_kind(\"bowled\")"
   ]
  },
  {
   "cell_type": "code",
   "execution_count": 305,
   "id": "2e174975",
   "metadata": {},
   "outputs": [
    {
     "data": {
      "text/plain": [
       "6"
      ]
     },
     "execution_count": 305,
     "metadata": {},
     "output_type": "execute_result"
    }
   ],
   "source": [
    "len(dismissal_types)"
   ]
  },
  {
   "cell_type": "code",
   "execution_count": 306,
   "id": "94ca1736",
   "metadata": {},
   "outputs": [
    {
     "name": "stdout",
     "output_type": "stream",
     "text": [
      "[143, 91, 205, 41, 206, 20, 185, 190, 65, 179, 29, 226, 120] 13\n",
      "[565, 285, 718, 103, 707, 44, 678, 738, 163, 564, 87, 666, 425] 13\n",
      "[30, 13, 26, 6, 29, 2, 27, 32, 11, 35, 6, 26, 26] 13\n",
      "[56, 27, 73, 13, 70, 7, 75, 86, 16, 42, 9, 68, 29] 13\n",
      "[88, 49, 106, 17, 109, 11, 107, 101, 31, 96, 17, 97, 64] 13\n",
      "[35, 18, 33, 8, 30, 2, 30, 33, 12, 35, 9, 31, 18] 13\n"
     ]
    }
   ],
   "source": [
    "for i in dismissal_types:\n",
    "    print(get_kind(i),len(get_kind(i)))"
   ]
  },
  {
   "cell_type": "code",
   "execution_count": 325,
   "id": "66fc8357",
   "metadata": {
    "scrolled": false
   },
   "outputs": [
    {
     "data": {
      "text/plain": [
       "<matplotlib.legend.Legend at 0x1ec617b1a80>"
      ]
     },
     "execution_count": 325,
     "metadata": {},
     "output_type": "execute_result"
    },
    {
     "data": {
      "image/png": "[encoded data removed]",
      "text/plain": [
       "<Figure size 640x480 with 1 Axes>"
      ]
     },
     "metadata": {},
     "output_type": "display_data"
    }
   ],
   "source": [
    "plt.xticks(rotation=90)\n",
    "plt.ylabel(\"Number of dismissals\")\n",
    "plt.xlabel(\"Teams\")\n",
    "for i in dismissal_types:\n",
    "    plt.bar(team_names,get_kind(i),label=i,alpha=0.4)\n",
    "\n",
    "plt.legend()"
   ]
  },
  {
   "cell_type": "markdown",
   "id": "e1c30aa5",
   "metadata": {},
   "source": [
    "### Which team has scored the most number of boundaries?"
   ]
  },
  {
   "cell_type": "code",
   "execution_count": 308,
   "id": "d8e954df",
   "metadata": {},
   "outputs": [
    {
     "data": {
      "text/plain": [
       "(30810, 18)"
      ]
     },
     "execution_count": 308,
     "metadata": {},
     "output_type": "execute_result"
    }
   ],
   "source": [
    "boundry_df=deliveries[(deliveries.batsman_runs==4)|(deliveries.batsman_runs==6)]\n",
    "boundry_df.shape"
   ]
  },
  {
   "cell_type": "code",
   "execution_count": 309,
   "id": "6f8d66ac",
   "metadata": {},
   "outputs": [
    {
     "data": {
      "text/html": [
       "<div>\n",
       "<style scoped>\n",
       "    .dataframe tbody tr th:only-of-type {\n",
       "        vertical-align: middle;\n",
       "    }\n",
       "\n",
       "    .dataframe tbody tr th {\n",
       "        vertical-align: top;\n",
       "    }\n",
       "\n",
       "    .dataframe thead th {\n",
       "        text-align: right;\n",
       "    }\n",
       "</style>\n",
       "<table border=\"1\" class=\"dataframe\">\n",
       "  <thead>\n",
       "    <tr style=\"text-align: right;\">\n",
       "      <th></th>\n",
       "      <th>batting_team</th>\n",
       "      <th>boundries</th>\n",
       "    </tr>\n",
       "  </thead>\n",
       "  <tbody>\n",
       "    <tr>\n",
       "      <th>0</th>\n",
       "      <td>Chennai Super Kings</td>\n",
       "      <td>3424</td>\n",
       "    </tr>\n",
       "    <tr>\n",
       "      <th>1</th>\n",
       "      <td>Deccan Chargers</td>\n",
       "      <td>1357</td>\n",
       "    </tr>\n",
       "    <tr>\n",
       "      <th>2</th>\n",
       "      <td>Delhi Capitals</td>\n",
       "      <td>3604</td>\n",
       "    </tr>\n",
       "    <tr>\n",
       "      <th>3</th>\n",
       "      <td>Gujarat Lions</td>\n",
       "      <td>615</td>\n",
       "    </tr>\n",
       "    <tr>\n",
       "      <th>4</th>\n",
       "      <td>Kings XI Punjab</td>\n",
       "      <td>3698</td>\n",
       "    </tr>\n",
       "    <tr>\n",
       "      <th>5</th>\n",
       "      <td>Kochi Tuskers Kerala</td>\n",
       "      <td>223</td>\n",
       "    </tr>\n",
       "    <tr>\n",
       "      <th>6</th>\n",
       "      <td>Kolkata Knight Riders</td>\n",
       "      <td>3637</td>\n",
       "    </tr>\n",
       "    <tr>\n",
       "      <th>7</th>\n",
       "      <td>Mumbai Indians</td>\n",
       "      <td>4034</td>\n",
       "    </tr>\n",
       "    <tr>\n",
       "      <th>8</th>\n",
       "      <td>Pune Warriors</td>\n",
       "      <td>721</td>\n",
       "    </tr>\n",
       "    <tr>\n",
       "      <th>9</th>\n",
       "      <td>Rajasthan Royals</td>\n",
       "      <td>2983</td>\n",
       "    </tr>\n",
       "    <tr>\n",
       "      <th>10</th>\n",
       "      <td>Rising Pune Supergiants</td>\n",
       "      <td>525</td>\n",
       "    </tr>\n",
       "    <tr>\n",
       "      <th>11</th>\n",
       "      <td>Royal Challengers Bangalore</td>\n",
       "      <td>3729</td>\n",
       "    </tr>\n",
       "    <tr>\n",
       "      <th>12</th>\n",
       "      <td>Sunrisers Hyderabad</td>\n",
       "      <td>2260</td>\n",
       "    </tr>\n",
       "  </tbody>\n",
       "</table>\n",
       "</div>"
      ],
      "text/plain": [
       "                   batting_team  boundries\n",
       "0           Chennai Super Kings       3424\n",
       "1               Deccan Chargers       1357\n",
       "2                Delhi Capitals       3604\n",
       "3                 Gujarat Lions        615\n",
       "4               Kings XI Punjab       3698\n",
       "5          Kochi Tuskers Kerala        223\n",
       "6         Kolkata Knight Riders       3637\n",
       "7                Mumbai Indians       4034\n",
       "8                 Pune Warriors        721\n",
       "9              Rajasthan Royals       2983\n",
       "10      Rising Pune Supergiants        525\n",
       "11  Royal Challengers Bangalore       3729\n",
       "12          Sunrisers Hyderabad       2260"
      ]
     },
     "execution_count": 309,
     "metadata": {},
     "output_type": "execute_result"
    }
   ],
   "source": [
    "boundry_grouped_df=boundry_df.groupby('batting_team')['batsman_runs'].count().reset_index()\n",
    "boundry_grouped_df.rename(columns={'batsman_runs':\"boundries\"},inplace=True)\n",
    "boundry_grouped_df"
   ]
  },
  {
   "cell_type": "code",
   "execution_count": 310,
   "id": "7f8334bb",
   "metadata": {},
   "outputs": [],
   "source": [
    "def addlabels(x,y):\n",
    "    for i in range(len(x)):\n",
    "        plt.text(i, y[i], y[i], ha = 'center')"
   ]
  },
  {
   "cell_type": "code",
   "execution_count": null,
   "id": "2fd95455",
   "metadata": {},
   "outputs": [],
   "source": [
    "plt.xticks(rotation=90)\n",
    "plt.ylabel(\"Number of Boundriesmmy\")\n",
    "plt.xlabel(\"Teams\")\n",
    "p=plt.bar(team_names,boundry_grouped_df.boundries)\n",
    "addlabels(team_names,boundry_grouped_df.boundries)"
   ]
  },
  {
   "cell_type": "markdown",
   "id": "50f05ad3",
   "metadata": {},
   "source": [
    "### Merging"
   ]
  },
  {
   "cell_type": "code",
   "execution_count": 312,
   "id": "b5720dcb",
   "metadata": {},
   "outputs": [
    {
     "data": {
      "text/html": [
       "<div>\n",
       "<style scoped>\n",
       "    .dataframe tbody tr th:only-of-type {\n",
       "        vertical-align: middle;\n",
       "    }\n",
       "\n",
       "    .dataframe tbody tr th {\n",
       "        vertical-align: top;\n",
       "    }\n",
       "\n",
       "    .dataframe thead th {\n",
       "        text-align: right;\n",
       "    }\n",
       "</style>\n",
       "<table border=\"1\" class=\"dataframe\">\n",
       "  <thead>\n",
       "    <tr style=\"text-align: right;\">\n",
       "      <th></th>\n",
       "      <th>id</th>\n",
       "      <th>city</th>\n",
       "      <th>date</th>\n",
       "      <th>player_of_match</th>\n",
       "      <th>venue</th>\n",
       "      <th>neutral_venue</th>\n",
       "      <th>team1</th>\n",
       "      <th>team2</th>\n",
       "      <th>toss_winner</th>\n",
       "      <th>toss_decision</th>\n",
       "      <th>winner</th>\n",
       "      <th>result</th>\n",
       "      <th>result_margin</th>\n",
       "      <th>eliminator</th>\n",
       "      <th>method</th>\n",
       "      <th>umpire1</th>\n",
       "      <th>umpire2</th>\n",
       "    </tr>\n",
       "  </thead>\n",
       "  <tbody>\n",
       "    <tr>\n",
       "      <th>179</th>\n",
       "      <td>501202</td>\n",
       "      <td>Mumbai</td>\n",
       "      <td>2011-04-10</td>\n",
       "      <td>SB Wagh</td>\n",
       "      <td>Dr DY Patil Sports Academy</td>\n",
       "      <td>0</td>\n",
       "      <td>Pune Warriors</td>\n",
       "      <td>Kings XI Punjab</td>\n",
       "      <td>Kings XI Punjab</td>\n",
       "      <td>bat</td>\n",
       "      <td>Pune Warriors</td>\n",
       "      <td>wickets</td>\n",
       "      <td>7.0</td>\n",
       "      <td>N</td>\n",
       "      <td>NaN</td>\n",
       "      <td>BR Doctrove</td>\n",
       "      <td>PR Reiffel</td>\n",
       "    </tr>\n",
       "  </tbody>\n",
       "</table>\n",
       "</div>"
      ],
      "text/plain": [
       "         id    city        date player_of_match                       venue  \\\n",
       "179  501202  Mumbai  2011-04-10         SB Wagh  Dr DY Patil Sports Academy   \n",
       "\n",
       "     neutral_venue          team1            team2      toss_winner  \\\n",
       "179              0  Pune Warriors  Kings XI Punjab  Kings XI Punjab   \n",
       "\n",
       "    toss_decision         winner   result  result_margin eliminator method  \\\n",
       "179           bat  Pune Warriors  wickets            7.0          N    NaN   \n",
       "\n",
       "         umpire1     umpire2  \n",
       "179  BR Doctrove  PR Reiffel  "
      ]
     },
     "execution_count": 312,
     "metadata": {},
     "output_type": "execute_result"
    }
   ],
   "source": [
    "match_df=pd.read_csv(\"IPL Matches 2008-2020.csv\")\n",
    "match_df.sample()"
   ]
  },
  {
   "cell_type": "code",
   "execution_count": 313,
   "id": "5b8bf179",
   "metadata": {},
   "outputs": [
    {
     "data": {
      "text/plain": [
       "Index(['id', 'city', 'date', 'player_of_match', 'venue', 'neutral_venue',\n",
       "       'team1', 'team2', 'toss_winner', 'toss_decision', 'winner', 'result',\n",
       "       'result_margin', 'eliminator', 'method', 'umpire1', 'umpire2'],\n",
       "      dtype='object')"
      ]
     },
     "execution_count": 313,
     "metadata": {},
     "output_type": "execute_result"
    }
   ],
   "source": [
    "match_df.columns"
   ]
  },
  {
   "cell_type": "code",
   "execution_count": 314,
   "id": "acde782c",
   "metadata": {},
   "outputs": [
    {
     "data": {
      "text/plain": [
       "(816, 17)"
      ]
     },
     "execution_count": 314,
     "metadata": {},
     "output_type": "execute_result"
    }
   ],
   "source": [
    "match_df.shape"
   ]
  },
  {
   "cell_type": "code",
   "execution_count": 315,
   "id": "6cfee35f",
   "metadata": {},
   "outputs": [],
   "source": [
    "merged_df= match_df.merge(deliveries,left_on=\"id\",right_on=\"id\")"
   ]
  },
  {
   "cell_type": "code",
   "execution_count": 316,
   "id": "635cf627",
   "metadata": {},
   "outputs": [
    {
     "data": {
      "text/plain": [
       "(193468, 34)"
      ]
     },
     "execution_count": 316,
     "metadata": {},
     "output_type": "execute_result"
    }
   ],
   "source": [
    "merged_df.shape"
   ]
  },
  {
   "cell_type": "code",
   "execution_count": 317,
   "id": "eab8f0e4",
   "metadata": {},
   "outputs": [
    {
     "data": {
      "text/plain": [
       "Index(['id', 'city', 'date', 'player_of_match', 'venue', 'neutral_venue',\n",
       "       'team1', 'team2', 'toss_winner', 'toss_decision', 'winner', 'result',\n",
       "       'result_margin', 'eliminator', 'method', 'umpire1', 'umpire2', 'inning',\n",
       "       'over', 'ball', 'batsman', 'non_striker', 'bowler', 'batsman_runs',\n",
       "       'extra_runs', 'total_runs', 'non_boundary', 'is_wicket',\n",
       "       'dismissal_kind', 'player_dismissed', 'fielder', 'extras_type',\n",
       "       'batting_team', 'bowling_team'],\n",
       "      dtype='object')"
      ]
     },
     "execution_count": 317,
     "metadata": {},
     "output_type": "execute_result"
    }
   ],
   "source": [
    "merged_df.columns"
   ]
  },
  {
   "cell_type": "markdown",
   "id": "4074c764",
   "metadata": {},
   "source": [
    "### Virat Kohli "
   ]
  },
  {
   "cell_type": "code",
   "execution_count": 318,
   "id": "5c51c373",
   "metadata": {},
   "outputs": [
    {
     "data": {
      "text/plain": [
       "Index(['id', 'inning', 'over', 'ball', 'batsman', 'non_striker', 'bowler',\n",
       "       'batsman_runs', 'extra_runs', 'total_runs', 'non_boundary', 'is_wicket',\n",
       "       'dismissal_kind', 'player_dismissed', 'fielder', 'extras_type',\n",
       "       'batting_team', 'bowling_team'],\n",
       "      dtype='object')"
      ]
     },
     "execution_count": 318,
     "metadata": {},
     "output_type": "execute_result"
    }
   ],
   "source": [
    "deliveries.columns"
   ]
  },
  {
   "cell_type": "code",
   "execution_count": 319,
   "id": "aa861de6",
   "metadata": {},
   "outputs": [
    {
     "data": {
      "text/plain": [
       "(193468, 18)"
      ]
     },
     "execution_count": 319,
     "metadata": {},
     "output_type": "execute_result"
    }
   ],
   "source": [
    "deliveries.shape"
   ]
  },
  {
   "cell_type": "code",
   "execution_count": 320,
   "id": "cdf2d1e0",
   "metadata": {},
   "outputs": [
    {
     "data": {
      "text/plain": [
       "(4609, 18)"
      ]
     },
     "execution_count": 320,
     "metadata": {},
     "output_type": "execute_result"
    }
   ],
   "source": [
    "virat_kohli=deliveries.groupby(\"batsman\").get_group(\"V Kohli\")\n",
    "virat_kohli.shape"
   ]
  },
  {
   "cell_type": "markdown",
   "id": "53bd7fb4",
   "metadata": {},
   "source": [
    "## Virat Kohli Runs against each team"
   ]
  },
  {
   "cell_type": "code",
   "execution_count": 321,
   "id": "24c9f684",
   "metadata": {},
   "outputs": [
    {
     "data": {
      "text/html": [
       "<div>\n",
       "<style scoped>\n",
       "    .dataframe tbody tr th:only-of-type {\n",
       "        vertical-align: middle;\n",
       "    }\n",
       "\n",
       "    .dataframe tbody tr th {\n",
       "        vertical-align: top;\n",
       "    }\n",
       "\n",
       "    .dataframe thead th {\n",
       "        text-align: right;\n",
       "    }\n",
       "</style>\n",
       "<table border=\"1\" class=\"dataframe\">\n",
       "  <thead>\n",
       "    <tr style=\"text-align: right;\">\n",
       "      <th></th>\n",
       "      <th>bowling_team</th>\n",
       "      <th>runs</th>\n",
       "    </tr>\n",
       "  </thead>\n",
       "  <tbody>\n",
       "    <tr>\n",
       "      <th>0</th>\n",
       "      <td>Chennai Super Kings</td>\n",
       "      <td>887</td>\n",
       "    </tr>\n",
       "    <tr>\n",
       "      <th>1</th>\n",
       "      <td>Deccan Chargers</td>\n",
       "      <td>306</td>\n",
       "    </tr>\n",
       "    <tr>\n",
       "      <th>2</th>\n",
       "      <td>Delhi Capitals</td>\n",
       "      <td>897</td>\n",
       "    </tr>\n",
       "    <tr>\n",
       "      <th>3</th>\n",
       "      <td>Gujarat Lions</td>\n",
       "      <td>283</td>\n",
       "    </tr>\n",
       "    <tr>\n",
       "      <th>4</th>\n",
       "      <td>Kings XI Punjab</td>\n",
       "      <td>681</td>\n",
       "    </tr>\n",
       "    <tr>\n",
       "      <th>5</th>\n",
       "      <td>Kochi Tuskers Kerala</td>\n",
       "      <td>50</td>\n",
       "    </tr>\n",
       "    <tr>\n",
       "      <th>6</th>\n",
       "      <td>Kolkata Knight Riders</td>\n",
       "      <td>725</td>\n",
       "    </tr>\n",
       "    <tr>\n",
       "      <th>7</th>\n",
       "      <td>Mumbai Indians</td>\n",
       "      <td>637</td>\n",
       "    </tr>\n",
       "    <tr>\n",
       "      <th>8</th>\n",
       "      <td>Pune Warriors</td>\n",
       "      <td>128</td>\n",
       "    </tr>\n",
       "    <tr>\n",
       "      <th>9</th>\n",
       "      <td>Rajasthan Royals</td>\n",
       "      <td>481</td>\n",
       "    </tr>\n",
       "    <tr>\n",
       "      <th>10</th>\n",
       "      <td>Rising Pune Supergiants</td>\n",
       "      <td>271</td>\n",
       "    </tr>\n",
       "    <tr>\n",
       "      <th>11</th>\n",
       "      <td>Sunrisers Hyderabad</td>\n",
       "      <td>531</td>\n",
       "    </tr>\n",
       "  </tbody>\n",
       "</table>\n",
       "</div>"
      ],
      "text/plain": [
       "               bowling_team  runs\n",
       "0       Chennai Super Kings   887\n",
       "1           Deccan Chargers   306\n",
       "2            Delhi Capitals   897\n",
       "3             Gujarat Lions   283\n",
       "4           Kings XI Punjab   681\n",
       "5      Kochi Tuskers Kerala    50\n",
       "6     Kolkata Knight Riders   725\n",
       "7            Mumbai Indians   637\n",
       "8             Pune Warriors   128\n",
       "9          Rajasthan Royals   481\n",
       "10  Rising Pune Supergiants   271\n",
       "11      Sunrisers Hyderabad   531"
      ]
     },
     "execution_count": 321,
     "metadata": {},
     "output_type": "execute_result"
    }
   ],
   "source": [
    "vk_runs_teams=virat_kohli.groupby(\"bowling_team\")['batsman_runs'].sum().reset_index()\n",
    "vk_runs_teams.rename(columns={\"batsman_runs\":\"runs\"},inplace=True)\n",
    "vk_runs_teams"
   ]
  },
  {
   "cell_type": "code",
   "execution_count": null,
   "id": "a86f44de",
   "metadata": {},
   "outputs": [],
   "source": [
    "x=vk_runs_teams.bowling_team\n",
    "y=vk_runs_teams.runs\n",
    "plt.title(\"Virat Kohli Runs Against Each team\")\n",
    "plt.ylabel(\"Runs\")\n",
    "plt.xlabel(\"Teams\")\n",
    "plt.xticks(rotation=90)\n",
    "plt.bar(x,y,color=\"c\")\n",
    "addlabels(x,y)"
   ]
  },
  {
   "cell_type": "code",
   "execution_count": null,
   "id": "81b1e5a1",
   "metadata": {},
   "outputs": [],
   "source": []
  }
 ],
 "metadata": {
  "kernelspec": {
   "display_name": "Python 3 (ipykernel)",
   "language": "python",
   "name": "python3"
  },
  "language_info": {
   "codemirror_mode": {
    "name": "ipython",
    "version": 3
   },
   "file_extension": ".py",
   "mimetype": "text/x-python",
   "name": "python",
   "nbconvert_exporter": "python",
   "pygments_lexer": "ipython3",
   "version": "3.10.7"
  }
 },
 "nbformat": 4,
 "nbformat_minor": 5
}
