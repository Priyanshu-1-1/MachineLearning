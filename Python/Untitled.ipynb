{
 "cells": [
  {
   "cell_type": "code",
   "execution_count": 43,
   "id": "43cd96bc",
   "metadata": {},
   "outputs": [
    {
     "data": {
      "text/plain": [
       "int"
      ]
     },
     "execution_count": 43,
     "metadata": {},
     "output_type": "execute_result"
    }
   ],
   "source": [
    "a=1\n",
    "b=2\n",
    "a\n",
    "b\n",
    "c=a+b\n",
    "type(a)"
   ]
  },
  {
   "cell_type": "code",
   "execution_count": 39,
   "id": "95edc0b9",
   "metadata": {},
   "outputs": [
    {
     "name": "stdout",
     "output_type": "stream",
     "text": [
      "The Sum of 1 and 2 is 3\n",
      "The Sum of 1 and 2 is 3\n"
     ]
    }
   ],
   "source": [
    "print(\"The Sum of\",a,\"and\",b,\"is\",a+b)\n",
    "print(\"The Sum of {} and {} is {}\".format(a,b,a+b))"
   ]
  },
  {
   "cell_type": "code",
   "execution_count": 81,
   "id": "4e05f390",
   "metadata": {},
   "outputs": [
    {
     "name": "stdout",
     "output_type": "stream",
     "text": [
      "****\n"
     ]
    }
   ],
   "source": [
    "print(\"*\"*4)"
   ]
  },
  {
   "cell_type": "code",
   "execution_count": 163,
   "id": "7f5c67b9",
   "metadata": {},
   "outputs": [
    {
     "name": "stdout",
     "output_type": "stream",
     "text": [
      "3\n"
     ]
    },
    {
     "data": {
      "text/plain": [
       "['a', 3, 2, 3, 3, 32, 3, 3, 3, 'fs', True, 12]"
      ]
     },
     "execution_count": 163,
     "metadata": {},
     "output_type": "execute_result"
    }
   ],
   "source": [
    "a=[\"a\",3,2,3,3,3,3,3,\"fs\",True]\n",
    "a.append(12)\n",
    "b=a.index(3)\n",
    "print(a.index(3,b+1,-3))\n",
    "# print(a.count(3))\n",
    "a.insert(5,32)\n",
    "\n",
    "a"
   ]
  },
  {
   "cell_type": "code",
   "execution_count": 148,
   "id": "57644db7",
   "metadata": {},
   "outputs": [
    {
     "data": {
      "text/plain": [
       "['a', 3, 2, 3, 3, 3, 3, 3, 'fs', True, 12]"
      ]
     },
     "execution_count": 148,
     "metadata": {},
     "output_type": "execute_result"
    }
   ],
   "source": [
    "# a.pop()\n",
    "a.remove(32)\n",
    "a"
   ]
  },
  {
   "cell_type": "code",
   "execution_count": 214,
   "id": "ee3431e6",
   "metadata": {},
   "outputs": [
    {
     "name": "stdout",
     "output_type": "stream",
     "text": [
      "55\n",
      "nahi hai\n"
     ]
    }
   ],
   "source": [
    "a=[23,32]\n",
    "b=[34,3434]\n",
    "print(sum(a))\n",
    "c=a+b\n",
    "c\n",
    "len(c)\n",
    "if 34 in a:\n",
    "    print(\"fdrf\")\n",
    "else: \n",
    "    print(\"nahi hai\")"
   ]
  },
  {
   "cell_type": "code",
   "execution_count": 196,
   "id": "b6ef63e8",
   "metadata": {},
   "outputs": [
    {
     "name": "stdout",
     "output_type": "stream",
     "text": [
      "What is your age: 13\n",
      "you can't\n"
     ]
    }
   ],
   "source": [
    "a= input(\"What is your age: \")\n",
    "a=int(a)\n",
    "if a>=18 or a==13:\n",
    "    print(\"you can vote\")\n",
    "else:\n",
    "    print(\"you can't\")"
   ]
  },
  {
   "cell_type": "code",
   "execution_count": 229,
   "id": "074fbb27",
   "metadata": {},
   "outputs": [
    {
     "name": "stdout",
     "output_type": "stream",
     "text": [
      "[[11, 12], [25, 11], [1, 4], [6, 5], [65, 4]]\n",
      "11\n",
      "12\n",
      "25\n",
      "11\n",
      "1\n",
      "4\n",
      "6\n",
      "5\n",
      "65\n",
      "4\n"
     ]
    }
   ],
   "source": [
    "a=[[11,12],[25,11],[1,4],[6,5],[65,4]]\n",
    "print(a)\n",
    "total=0\n",
    "for i in a:\n",
    "    for j in i:\n",
    "        print(j)"
   ]
  },
  {
   "cell_type": "code",
   "execution_count": 4,
   "id": "dba3c32f",
   "metadata": {
    "scrolled": false
   },
   "outputs": [
    {
     "name": "stdout",
     "output_type": "stream",
     "text": [
      "4\n",
      "1\n",
      "12\n"
     ]
    }
   ],
   "source": [
    "b=25\n",
    "a=[1,12,54,61,25,34]\n",
    "# for i in a:\n",
    "#     if b==i:\n",
    "#         print(a.index(b))\n",
    "\n",
    "for i in range(len(a)):\n",
    "    if b==a[i]:\n",
    "        print(i)\n",
    "        break\n",
    "i=0\n",
    "while a[i]<50:\n",
    "    print(a[i])\n",
    "    i+=1"
   ]
  },
  {
   "cell_type": "code",
   "execution_count": 32,
   "id": "4669a581",
   "metadata": {},
   "outputs": [
    {
     "name": "stdout",
     "output_type": "stream",
     "text": [
      "*\n",
      "**\n",
      "***\n",
      "****\n"
     ]
    }
   ],
   "source": [
    "def star(n=4):\n",
    "    oo=0\n",
    "    for i in range(1,n+1):\n",
    "        print(\"*\"*i)\n",
    "            \n",
    "star()\n",
    "# star(6)"
   ]
  },
  {
   "cell_type": "code",
   "execution_count": 61,
   "id": "40772ae3",
   "metadata": {},
   "outputs": [
    {
     "data": {
      "text/plain": [
       "{'a': 2}"
      ]
     },
     "execution_count": 61,
     "metadata": {},
     "output_type": "execute_result"
    }
   ],
   "source": [
    "dict1={\"a\":2,\"b\":5}\n",
    "del dict1[\"b\"]\n",
    "dict1"
   ]
  },
  {
   "cell_type": "code",
   "execution_count": 63,
   "id": "a0d54e68",
   "metadata": {},
   "outputs": [
    {
     "name": "stdout",
     "output_type": "stream",
     "text": [
      "key: a Value: 2\n",
      "key: b Value: 5\n"
     ]
    }
   ],
   "source": [
    "dict1={\"a\":2,\"b\":5}\n",
    "for key in dict1:\n",
    "    print(\"key:\",key,\"Value:\",dict1[key])"
   ]
  },
  {
   "cell_type": "code",
   "execution_count": 74,
   "id": "a96a9741",
   "metadata": {},
   "outputs": [
    {
     "name": "stdout",
     "output_type": "stream",
     "text": [
      "('b', 5)\n"
     ]
    },
    {
     "data": {
      "text/plain": [
       "('a', 2)"
      ]
     },
     "execution_count": 74,
     "metadata": {},
     "output_type": "execute_result"
    }
   ],
   "source": [
    "a,b=dict1.items()\n",
    "\n",
    "print(b)\n",
    "a"
   ]
  },
  {
   "cell_type": "code",
   "execution_count": 76,
   "id": "30f10ae9",
   "metadata": {},
   "outputs": [
    {
     "data": {
      "text/plain": [
       "tuple"
      ]
     },
     "execution_count": 76,
     "metadata": {},
     "output_type": "execute_result"
    }
   ],
   "source": [
    "a=(2,3,23)\n",
    "type(a)"
   ]
  },
  {
   "cell_type": "code",
   "execution_count": 82,
   "id": "987d46f1",
   "metadata": {},
   "outputs": [
    {
     "data": {
      "text/plain": [
       "2"
      ]
     },
     "execution_count": 82,
     "metadata": {},
     "output_type": "execute_result"
    }
   ],
   "source": [
    "a=[[1,2]]\n",
    "a[0][1]"
   ]
  },
  {
   "cell_type": "code",
   "execution_count": 21,
   "id": "4753d3b6",
   "metadata": {
    "scrolled": true
   },
   "outputs": [
    {
     "name": "stdout",
     "output_type": "stream",
     "text": [
      "Enter your age:s\n",
      "UnKnown Error: ValueError\n",
      "<class 'ValueError'>\n"
     ]
    }
   ],
   "source": [
    "try:\n",
    "    age= int(input(\"Enter your age:\"))\n",
    "    print(age/0)\n",
    "    if age>=18:\n",
    "        print(\"You are an adult!!\")\n",
    "    else:\n",
    "        print(\"bacha hai abhi\")\n",
    "    \n",
    "except ZeroDivisionError:\n",
    "    print(\"You cannot divide by zero\")\n",
    "\n",
    "except Exception as e:\n",
    "    print(\"UnKnown Error:\",type(e).__name__)    \n",
    "    print(type(e))"
   ]
  },
  {
   "cell_type": "code",
   "execution_count": 91,
   "id": "a8014b41",
   "metadata": {},
   "outputs": [
    {
     "name": "stdout",
     "output_type": "stream",
     "text": [
      "Hello\n",
      "45\n"
     ]
    }
   ],
   "source": [
    "class Human:\n",
    "#     constructor\n",
    "    def __init__(self,age=18):\n",
    "        Human.age=age\n",
    "        print(\"Hello\")\n",
    "    @staticmethod\n",
    "    def show():\n",
    "        print(Human.age)\n",
    "\n",
    "h1= Human(45)\n",
    "Human.show()"
   ]
  },
  {
   "cell_type": "code",
   "execution_count": 93,
   "id": "5e1ecb19",
   "metadata": {
    "scrolled": true
   },
   "outputs": [
    {
     "name": "stdout",
     "output_type": "stream",
     "text": [
      "[1, 4, 15, 4]\n",
      "24\n"
     ]
    },
    {
     "data": {
      "text/plain": [
       "[6, 9, 20, 9]"
      ]
     },
     "execution_count": 93,
     "metadata": {},
     "output_type": "execute_result"
    }
   ],
   "source": [
    "s=['1','4','15','4']\n",
    "# a=[1,5,48,11]\n",
    "# b=[]\n",
    "# for i in a:\n",
    "#     b.append(i+5)\n",
    "a=[int(x) for x in s]\n",
    "print(a)\n",
    "print(sum(a))\n",
    "\n",
    "b=[i+5 for i in a]\n",
    "b"
   ]
  },
  {
   "cell_type": "code",
   "execution_count": 71,
   "id": "83c2910d",
   "metadata": {},
   "outputs": [
    {
     "name": "stdout",
     "output_type": "stream",
     "text": [
      "pk11 gmail.com\n",
      "0\n"
     ]
    }
   ],
   "source": [
    "a=\"pk11@gmail.com\"\n",
    "username,ext= a.split(\"@\")\n",
    "# Split,map,join,index,count,strip\n",
    "print(username,ext)\n",
    "print(username.count(\"-\"))"
   ]
  },
  {
   "cell_type": "code",
   "execution_count": 80,
   "id": "2517bb29",
   "metadata": {},
   "outputs": [
    {
     "data": {
      "text/plain": [
       "'fd d \\ndf\\nfd'"
      ]
     },
     "execution_count": 80,
     "metadata": {},
     "output_type": "execute_result"
    }
   ],
   "source": [
    "a=\"\"\"             fd d \n",
    "df\n",
    "fd           \"\"\"\n",
    "a.strip()"
   ]
  },
  {
   "cell_type": "code",
   "execution_count": 103,
   "id": "7551d8bb",
   "metadata": {},
   "outputs": [
    {
     "data": {
      "text/plain": [
       "{1, 2, 3, 4, 5, 44, 55}"
      ]
     },
     "execution_count": 103,
     "metadata": {},
     "output_type": "execute_result"
    }
   ],
   "source": [
    "set1=set((1,1,2,3,4,5,55,2,44))\n",
    "set1"
   ]
  }
 ],
 "metadata": {
  "kernelspec": {
   "display_name": "Python 3 (ipykernel)",
   "language": "python",
   "name": "python3"
  },
  "language_info": {
   "codemirror_mode": {
    "name": "ipython",
    "version": 3
   },
   "file_extension": ".py",
   "mimetype": "text/x-python",
   "name": "python",
   "nbconvert_exporter": "python",
   "pygments_lexer": "ipython3",
   "version": "3.10.7"
  }
 },
 "nbformat": 4,
 "nbformat_minor": 5
}
